{
  "nbformat": 4,
  "nbformat_minor": 0,
  "metadata": {
    "kernelspec": {
      "name": "python3",
      "display_name": "Python 3"
    },
    "language_info": {
      "codemirror_mode": {
        "name": "ipython",
        "version": 3
      },
      "file_extension": ".py",
      "mimetype": "text/x-python",
      "name": "python",
      "nbconvert_exporter": "python",
      "pygments_lexer": "ipython3",
      "version": "3.6.9"
    },
    "colab": {
      "name": "inforetrieval.ipynb",
      "provenance": [],
      "collapsed_sections": [],
      "toc_visible": true
    },
    "accelerator": "GPU"
  },
  "cells": [
    {
      "cell_type": "code",
      "metadata": {
        "id": "9P-EGW49JBUl",
        "colab_type": "code",
        "colab": {}
      },
      "source": [
        "%matplotlib inline\n",
        "import os\n",
        "import matplotlib.pyplot as plt\n",
        "import tensorflow as tf\n",
        "import tensorflow_addons as tfa\n",
        "import numpy as np\n",
        "import pandas as pd\n",
        "import nltk\n",
        "import re\n",
        "from scipy.spatial.distance import cdist\n",
        "from tensorflow.python.keras.models import Sequential\n",
        "from tensorflow.python.keras.layers import Dense, GRU, Embedding, Dropout\n",
        "from tensorflow.python.keras.optimizers import Adam\n",
        "from tensorflow.python.keras.preprocessing.text import Tokenizer\n",
        "from tensorflow.python.keras.preprocessing.sequence import pad_sequences"
      ],
      "execution_count": 0,
      "outputs": []
    },
    {
      "cell_type": "code",
      "metadata": {
        "id": "K-ZGg6gRJBUr",
        "colab_type": "code",
        "outputId": "035fda4d-47d0-4295-e075-03a66d640099",
        "colab": {
          "base_uri": "https://localhost:8080/",
          "height": 33
        }
      },
      "source": [
        "#/////////////////////////////////////\n",
        "#// Use this on Google Colaboratory\n",
        "#////////////////////////////////////\n",
        "\n",
        "from google.colab import drive\n",
        "drive.mount('/content/gdrive')\n",
        "df = pd.read_csv(\"gdrive/My Drive/CZ4034 Info Retrieval/wilson_sentiments.csv\", delimiter=\",\", header=0)\n",
        "\n",
        "\n",
        "\n",
        "#////////////////////////////////\n",
        "#// Use this on local machines\n",
        "#///////////////////////////////\n",
        "\n",
        "# df = pd.read_csv(\"./wilson_sentiments.csv\", delimiter=\",\", header=0)"
      ],
      "execution_count": 0,
      "outputs": [
        {
          "output_type": "stream",
          "text": [
            "Drive already mounted at /content/gdrive; to attempt to forcibly remount, call drive.mount(\"/content/gdrive\", force_remount=True).\n"
          ],
          "name": "stdout"
        }
      ]
    },
    {
      "cell_type": "code",
      "metadata": {
        "id": "UVQ4dFyuJBUx",
        "colab_type": "code",
        "colab": {}
      },
      "source": [
        "# Take only the csv entries with sentiments labelled\n",
        "df_manual = df.head(1061)"
      ],
      "execution_count": 0,
      "outputs": []
    },
    {
      "cell_type": "code",
      "metadata": {
        "id": "JBrxChlvJBUz",
        "colab_type": "code",
        "colab": {}
      },
      "source": [
        "df_manual = df_manual[[\"id\", \"sentiments\", \"quote\"]]"
      ],
      "execution_count": 0,
      "outputs": []
    },
    {
      "cell_type": "code",
      "metadata": {
        "id": "NV8BRLOxJBU2",
        "colab_type": "code",
        "outputId": "6b45a995-dc89-4174-c2fa-f4b976ccaee8",
        "colab": {
          "base_uri": "https://localhost:8080/",
          "height": 390
        }
      },
      "source": [
        "df_manual"
      ],
      "execution_count": 0,
      "outputs": [
        {
          "output_type": "execute_result",
          "data": {
            "text/html": [
              "<div>\n",
              "<style scoped>\n",
              "    .dataframe tbody tr th:only-of-type {\n",
              "        vertical-align: middle;\n",
              "    }\n",
              "\n",
              "    .dataframe tbody tr th {\n",
              "        vertical-align: top;\n",
              "    }\n",
              "\n",
              "    .dataframe thead th {\n",
              "        text-align: right;\n",
              "    }\n",
              "</style>\n",
              "<table border=\"1\" class=\"dataframe\">\n",
              "  <thead>\n",
              "    <tr style=\"text-align: right;\">\n",
              "      <th></th>\n",
              "      <th>id</th>\n",
              "      <th>sentiments</th>\n",
              "      <th>quote</th>\n",
              "    </tr>\n",
              "  </thead>\n",
              "  <tbody>\n",
              "    <tr>\n",
              "      <th>0</th>\n",
              "      <td>0</td>\n",
              "      <td>0.0</td>\n",
              "      <td>I'm selfish, impatient and a little insecure. ...</td>\n",
              "    </tr>\n",
              "    <tr>\n",
              "      <th>1</th>\n",
              "      <td>1</td>\n",
              "      <td>1.0</td>\n",
              "      <td>Be yourself; everyone else is already taken.</td>\n",
              "    </tr>\n",
              "    <tr>\n",
              "      <th>2</th>\n",
              "      <td>2</td>\n",
              "      <td>0.0</td>\n",
              "      <td>Two things are infinite: the universe and huma...</td>\n",
              "    </tr>\n",
              "    <tr>\n",
              "      <th>3</th>\n",
              "      <td>3</td>\n",
              "      <td>0.0</td>\n",
              "      <td>So many books, so little time.</td>\n",
              "    </tr>\n",
              "    <tr>\n",
              "      <th>4</th>\n",
              "      <td>4</td>\n",
              "      <td>0.0</td>\n",
              "      <td>Be who you are and say what you feel, because ...</td>\n",
              "    </tr>\n",
              "    <tr>\n",
              "      <th>...</th>\n",
              "      <td>...</td>\n",
              "      <td>...</td>\n",
              "      <td>...</td>\n",
              "    </tr>\n",
              "    <tr>\n",
              "      <th>1056</th>\n",
              "      <td>1056</td>\n",
              "      <td>1.0</td>\n",
              "      <td>Remember that wherever your heart is, there yo...</td>\n",
              "    </tr>\n",
              "    <tr>\n",
              "      <th>1057</th>\n",
              "      <td>1057</td>\n",
              "      <td>1.0</td>\n",
              "      <td>History will be kind to me for I intend to wri...</td>\n",
              "    </tr>\n",
              "    <tr>\n",
              "      <th>1058</th>\n",
              "      <td>1058</td>\n",
              "      <td>1.0</td>\n",
              "      <td>Respect other people's feelings. It might mean...</td>\n",
              "    </tr>\n",
              "    <tr>\n",
              "      <th>1059</th>\n",
              "      <td>1059</td>\n",
              "      <td>1.0</td>\n",
              "      <td>Take responsibility of your own happiness, nev...</td>\n",
              "    </tr>\n",
              "    <tr>\n",
              "      <th>1060</th>\n",
              "      <td>1060</td>\n",
              "      <td>1.0</td>\n",
              "      <td>All I ever wanted was to reach out and touch a...</td>\n",
              "    </tr>\n",
              "  </tbody>\n",
              "</table>\n",
              "<p>1061 rows × 3 columns</p>\n",
              "</div>"
            ],
            "text/plain": [
              "        id  sentiments                                              quote\n",
              "0        0         0.0  I'm selfish, impatient and a little insecure. ...\n",
              "1        1         1.0       Be yourself; everyone else is already taken.\n",
              "2        2         0.0  Two things are infinite: the universe and huma...\n",
              "3        3         0.0                     So many books, so little time.\n",
              "4        4         0.0  Be who you are and say what you feel, because ...\n",
              "...    ...         ...                                                ...\n",
              "1056  1056         1.0  Remember that wherever your heart is, there yo...\n",
              "1057  1057         1.0  History will be kind to me for I intend to wri...\n",
              "1058  1058         1.0  Respect other people's feelings. It might mean...\n",
              "1059  1059         1.0  Take responsibility of your own happiness, nev...\n",
              "1060  1060         1.0  All I ever wanted was to reach out and touch a...\n",
              "\n",
              "[1061 rows x 3 columns]"
            ]
          },
          "metadata": {
            "tags": []
          },
          "execution_count": 5
        }
      ]
    },
    {
      "cell_type": "code",
      "metadata": {
        "id": "rFJEBi1NJBU5",
        "colab_type": "code",
        "outputId": "f2305564-f3c3-4108-90e3-e5406c672f1a",
        "colab": {
          "base_uri": "https://localhost:8080/",
          "height": 423
        }
      },
      "source": [
        "from nltk.stem import WordNetLemmatizer\n",
        "stemmer = WordNetLemmatizer()\n",
        "nltk.download('wordnet')\n",
        "\n",
        "processed_quotes = []\n",
        "\n",
        "for sen in df_manual[\"quote\"]:\n",
        "    # Remove all the special characters\n",
        "    document = re.sub(r'\\W', ' ', str(sen))\n",
        "\n",
        "    # remove all single characters\n",
        "    document = re.sub(r'\\s+[a-zA-Z]\\s+', ' ', document)\n",
        "    \n",
        "    # Remove single characters from the start\n",
        "    document = re.sub(r'\\^[a-zA-Z]\\s+', ' ', document) \n",
        "    \n",
        "    # Substituting multiple spaces with single space\n",
        "    document = re.sub(r'\\s+', ' ', document, flags=re.I)\n",
        "    \n",
        "    # Removing prefixed 'b'\n",
        "    document = re.sub(r'^b\\s+', '', document)\n",
        "    \n",
        "    # Converting to Lowercase\n",
        "    document = document.lower()\n",
        "    \n",
        "    # Lemmatization\n",
        "    document = document.split()\n",
        "\n",
        "    document = [stemmer.lemmatize(word) for word in document]\n",
        "    document = ' '.join(document)\n",
        "    \n",
        "    processed_quotes.append(document)\n",
        "    \n",
        "df_manual[\"processed_quotes\"] = processed_quotes\n",
        "df_manual"
      ],
      "execution_count": 0,
      "outputs": [
        {
          "output_type": "stream",
          "text": [
            "[nltk_data] Downloading package wordnet to /root/nltk_data...\n",
            "[nltk_data]   Package wordnet is already up-to-date!\n"
          ],
          "name": "stdout"
        },
        {
          "output_type": "execute_result",
          "data": {
            "text/html": [
              "<div>\n",
              "<style scoped>\n",
              "    .dataframe tbody tr th:only-of-type {\n",
              "        vertical-align: middle;\n",
              "    }\n",
              "\n",
              "    .dataframe tbody tr th {\n",
              "        vertical-align: top;\n",
              "    }\n",
              "\n",
              "    .dataframe thead th {\n",
              "        text-align: right;\n",
              "    }\n",
              "</style>\n",
              "<table border=\"1\" class=\"dataframe\">\n",
              "  <thead>\n",
              "    <tr style=\"text-align: right;\">\n",
              "      <th></th>\n",
              "      <th>id</th>\n",
              "      <th>sentiments</th>\n",
              "      <th>quote</th>\n",
              "      <th>processed_quotes</th>\n",
              "    </tr>\n",
              "  </thead>\n",
              "  <tbody>\n",
              "    <tr>\n",
              "      <th>0</th>\n",
              "      <td>0</td>\n",
              "      <td>0.0</td>\n",
              "      <td>I'm selfish, impatient and a little insecure. ...</td>\n",
              "      <td>i selfish impatient and little insecure make m...</td>\n",
              "    </tr>\n",
              "    <tr>\n",
              "      <th>1</th>\n",
              "      <td>1</td>\n",
              "      <td>1.0</td>\n",
              "      <td>Be yourself; everyone else is already taken.</td>\n",
              "      <td>be yourself everyone else is already taken</td>\n",
              "    </tr>\n",
              "    <tr>\n",
              "      <th>2</th>\n",
              "      <td>2</td>\n",
              "      <td>0.0</td>\n",
              "      <td>Two things are infinite: the universe and huma...</td>\n",
              "      <td>two thing are infinite the universe and human ...</td>\n",
              "    </tr>\n",
              "    <tr>\n",
              "      <th>3</th>\n",
              "      <td>3</td>\n",
              "      <td>0.0</td>\n",
              "      <td>So many books, so little time.</td>\n",
              "      <td>so many book so little time</td>\n",
              "    </tr>\n",
              "    <tr>\n",
              "      <th>4</th>\n",
              "      <td>4</td>\n",
              "      <td>0.0</td>\n",
              "      <td>Be who you are and say what you feel, because ...</td>\n",
              "      <td>be who you are and say what you feel because t...</td>\n",
              "    </tr>\n",
              "    <tr>\n",
              "      <th>...</th>\n",
              "      <td>...</td>\n",
              "      <td>...</td>\n",
              "      <td>...</td>\n",
              "      <td>...</td>\n",
              "    </tr>\n",
              "    <tr>\n",
              "      <th>1056</th>\n",
              "      <td>1056</td>\n",
              "      <td>1.0</td>\n",
              "      <td>Remember that wherever your heart is, there yo...</td>\n",
              "      <td>remember that wherever your heart is there you...</td>\n",
              "    </tr>\n",
              "    <tr>\n",
              "      <th>1057</th>\n",
              "      <td>1057</td>\n",
              "      <td>1.0</td>\n",
              "      <td>History will be kind to me for I intend to wri...</td>\n",
              "      <td>history will be kind to me for intend to write it</td>\n",
              "    </tr>\n",
              "    <tr>\n",
              "      <th>1058</th>\n",
              "      <td>1058</td>\n",
              "      <td>1.0</td>\n",
              "      <td>Respect other people's feelings. It might mean...</td>\n",
              "      <td>respect other people feeling it might mean not...</td>\n",
              "    </tr>\n",
              "    <tr>\n",
              "      <th>1059</th>\n",
              "      <td>1059</td>\n",
              "      <td>1.0</td>\n",
              "      <td>Take responsibility of your own happiness, nev...</td>\n",
              "      <td>take responsibility of your own happiness neve...</td>\n",
              "    </tr>\n",
              "    <tr>\n",
              "      <th>1060</th>\n",
              "      <td>1060</td>\n",
              "      <td>1.0</td>\n",
              "      <td>All I ever wanted was to reach out and touch a...</td>\n",
              "      <td>all ever wanted wa to reach out and touch anot...</td>\n",
              "    </tr>\n",
              "  </tbody>\n",
              "</table>\n",
              "<p>1061 rows × 4 columns</p>\n",
              "</div>"
            ],
            "text/plain": [
              "        id  ...                                   processed_quotes\n",
              "0        0  ...  i selfish impatient and little insecure make m...\n",
              "1        1  ...         be yourself everyone else is already taken\n",
              "2        2  ...  two thing are infinite the universe and human ...\n",
              "3        3  ...                        so many book so little time\n",
              "4        4  ...  be who you are and say what you feel because t...\n",
              "...    ...  ...                                                ...\n",
              "1056  1056  ...  remember that wherever your heart is there you...\n",
              "1057  1057  ...  history will be kind to me for intend to write it\n",
              "1058  1058  ...  respect other people feeling it might mean not...\n",
              "1059  1059  ...  take responsibility of your own happiness neve...\n",
              "1060  1060  ...  all ever wanted wa to reach out and touch anot...\n",
              "\n",
              "[1061 rows x 4 columns]"
            ]
          },
          "metadata": {
            "tags": []
          },
          "execution_count": 6
        }
      ]
    },
    {
      "cell_type": "code",
      "metadata": {
        "id": "HnZkctQlJBU7",
        "colab_type": "code",
        "outputId": "fd8d9d65-ef83-4642-e074-2abf9a185603",
        "colab": {
          "base_uri": "https://localhost:8080/",
          "height": 214
        }
      },
      "source": [
        "# print(df.iloc[:,3])  # take the processed quotes\n",
        "# print(df.iloc[:,1])  # take only the sentiments\n",
        "\n",
        "# x is the quotes, y is the sentiment values\n",
        "from sklearn.model_selection import train_test_split\n",
        "x_train, x_test, y_train, y_test = train_test_split(df_manual.iloc[:,3], df_manual.iloc[:,1], test_size=0.20, random_state=42)\n",
        "\n",
        "# Check to see if x_train + x_test gives back 1061 entries\n",
        "text = pd.concat([x_train,x_test])\n",
        "print(text)"
      ],
      "execution_count": 0,
      "outputs": [
        {
          "output_type": "stream",
          "text": [
            "72     if you can explain it to six year old you don ...\n",
            "898    true love is rare and it the only thing that g...\n",
            "44     yesterday is history tomorrow is mystery today...\n",
            "309             i would die for you but won live for you\n",
            "784    it strange because sometimes read book and thi...\n",
            "                             ...                        \n",
            "581         think before you speak read before you think\n",
            "55     i am enough of an artist to draw freely upon m...\n",
            "120    it matter not what someone is born but what th...\n",
            "388    nobody ha ever measured not even poet how much...\n",
            "25     insanity is doing the same thing over and over...\n",
            "Name: processed_quotes, Length: 1061, dtype: object\n"
          ],
          "name": "stdout"
        }
      ]
    },
    {
      "cell_type": "code",
      "metadata": {
        "id": "uj7mrFpgJBVA",
        "colab_type": "code",
        "colab": {}
      },
      "source": [
        "num_words = 10000\n",
        "tokenizer = Tokenizer(num_words=num_words)\n",
        "# print(tokenizer)\n",
        "tokenizer.fit_on_texts(text)\n",
        "x_train_tokens = tokenizer.texts_to_sequences(x_train)\n",
        "x_test_tokens = tokenizer.texts_to_sequences(x_test)"
      ],
      "execution_count": 0,
      "outputs": []
    },
    {
      "cell_type": "code",
      "metadata": {
        "id": "QEOxz-yyJBVD",
        "colab_type": "code",
        "outputId": "0a24af0a-423e-4697-b16f-7f4262421899",
        "colab": {
          "base_uri": "https://localhost:8080/",
          "height": 33
        }
      },
      "source": [
        "num_tokens = [len(tokens) for tokens in x_train_tokens + x_test_tokens]\n",
        "num_tokens = np.array(num_tokens)\n",
        "print(\"Mean length is \" + str(np.mean(num_tokens)))"
      ],
      "execution_count": 0,
      "outputs": [
        {
          "output_type": "stream",
          "text": [
            "Mean length is 22.611687087653156\n"
          ],
          "name": "stdout"
        }
      ]
    },
    {
      "cell_type": "code",
      "metadata": {
        "id": "8d2xWVD0JBVF",
        "colab_type": "code",
        "outputId": "645a3628-2baf-4992-fa7c-411d33b509c5",
        "colab": {
          "base_uri": "https://localhost:8080/",
          "height": 33
        }
      },
      "source": [
        "#Chose to 2 S.D to cover ~95% of data\n",
        "max_tokens = np.mean(num_tokens) + 2*np.std(num_tokens)\n",
        "max_tokens = int(max_tokens)\n",
        "print(max_tokens)"
      ],
      "execution_count": 0,
      "outputs": [
        {
          "output_type": "stream",
          "text": [
            "75\n"
          ],
          "name": "stdout"
        }
      ]
    },
    {
      "cell_type": "code",
      "metadata": {
        "id": "_HMNXdhJJBVI",
        "colab_type": "code",
        "colab": {}
      },
      "source": [
        "x_train_pad = pad_sequences(x_train_tokens, maxlen=max_tokens,\n",
        "                            padding='pre', truncating='pre')\n",
        "x_test_pad = pad_sequences(x_test_tokens, maxlen=max_tokens,\n",
        "                           padding='pre', truncating='pre')"
      ],
      "execution_count": 0,
      "outputs": []
    },
    {
      "cell_type": "code",
      "metadata": {
        "id": "mtwCDPGeJBVK",
        "colab_type": "code",
        "colab": {}
      },
      "source": [
        "idx = tokenizer.word_index\n",
        "inverse_map = dict(zip(idx.values(), idx.keys()))"
      ],
      "execution_count": 0,
      "outputs": []
    },
    {
      "cell_type": "code",
      "metadata": {
        "id": "kofC0G2zJBVM",
        "colab_type": "code",
        "colab": {}
      },
      "source": [
        "def tokens_to_string(tokens):\n",
        "    words = [inverse_map[token] for token in tokens if token != 0]\n",
        "    text = \" \".join(words)\n",
        "    return text"
      ],
      "execution_count": 0,
      "outputs": []
    },
    {
      "cell_type": "code",
      "metadata": {
        "id": "lBokxvxSJBVP",
        "colab_type": "code",
        "colab": {}
      },
      "source": [
        "model = Sequential()\n",
        "embedding_size = 100\n",
        "\n",
        "model.add(Embedding(input_dim=num_words,\n",
        "                    output_dim=embedding_size,\n",
        "                    input_length=max_tokens,\n",
        "                    name='layer_embedding'))\n",
        "model.add(GRU(units=16, return_sequences=True, dropout=0.2, recurrent_dropout=0.2))\n",
        "model.add(GRU(units=16, return_sequences=True, dropout=0.5, recurrent_dropout=0.2))\n",
        "model.add(GRU(units=8, return_sequences=True, dropout=0.5, recurrent_dropout=0.2))\n",
        "model.add(GRU(units=4, dropout=0.5, recurrent_dropout=0.2))\n",
        "model.add(Dense(64, activation='relu'))\n",
        "model.add(Dropout(0.5))\n",
        "model.add(Dense(1, activation='sigmoid'))\n",
        "\n",
        "Adam = tf.keras.optimizers.Adam(learning_rate=0.001, beta_1=0.9, beta_2=0.999, epsilon=1e-07, amsgrad=False)\n",
        "\n",
        "model.compile(loss='binary_crossentropy',\n",
        "              optimizer=Adam,\n",
        "              metrics=['accuracy'])"
      ],
      "execution_count": 0,
      "outputs": []
    },
    {
      "cell_type": "code",
      "metadata": {
        "id": "8aG5FfTbJBVS",
        "colab_type": "code",
        "outputId": "c95c84cb-83d5-4b17-e691-3dd08f30a783",
        "colab": {
          "base_uri": "https://localhost:8080/",
          "height": 690
        }
      },
      "source": [
        "history = model.fit(x_train_pad, \n",
        "                    y_train,\n",
        "                    validation_split=0.05, \n",
        "                    epochs=20, \n",
        "                    batch_size=32)"
      ],
      "execution_count": 0,
      "outputs": [
        {
          "output_type": "stream",
          "text": [
            "Train on 805 samples, validate on 43 samples\n",
            "Epoch 1/20\n",
            "805/805 [==============================] - 21s 27ms/sample - loss: 0.6921 - accuracy: 0.5528 - val_loss: 0.6864 - val_accuracy: 0.6512\n",
            "Epoch 2/20\n",
            "805/805 [==============================] - 13s 16ms/sample - loss: 0.6890 - accuracy: 0.5565 - val_loss: 0.6740 - val_accuracy: 0.6512\n",
            "Epoch 3/20\n",
            "805/805 [==============================] - 13s 16ms/sample - loss: 0.6868 - accuracy: 0.5565 - val_loss: 0.6699 - val_accuracy: 0.6512\n",
            "Epoch 4/20\n",
            "805/805 [==============================] - 13s 16ms/sample - loss: 0.6845 - accuracy: 0.5553 - val_loss: 0.6663 - val_accuracy: 0.6512\n",
            "Epoch 5/20\n",
            "805/805 [==============================] - 13s 16ms/sample - loss: 0.6761 - accuracy: 0.5578 - val_loss: 0.6693 - val_accuracy: 0.6512\n",
            "Epoch 6/20\n",
            "805/805 [==============================] - 13s 16ms/sample - loss: 0.6270 - accuracy: 0.5950 - val_loss: 0.6875 - val_accuracy: 0.5814\n",
            "Epoch 7/20\n",
            "805/805 [==============================] - 13s 16ms/sample - loss: 0.4789 - accuracy: 0.8124 - val_loss: 0.9175 - val_accuracy: 0.4651\n",
            "Epoch 8/20\n",
            "805/805 [==============================] - 13s 16ms/sample - loss: 0.3466 - accuracy: 0.8634 - val_loss: 1.0527 - val_accuracy: 0.5116\n",
            "Epoch 9/20\n",
            "805/805 [==============================] - 13s 16ms/sample - loss: 0.2645 - accuracy: 0.9193 - val_loss: 1.1356 - val_accuracy: 0.5349\n",
            "Epoch 10/20\n",
            "805/805 [==============================] - 13s 16ms/sample - loss: 0.2433 - accuracy: 0.9193 - val_loss: 1.1607 - val_accuracy: 0.5349\n",
            "Epoch 11/20\n",
            "805/805 [==============================] - 13s 16ms/sample - loss: 0.1630 - accuracy: 0.9516 - val_loss: 1.2475 - val_accuracy: 0.6279\n",
            "Epoch 12/20\n",
            "805/805 [==============================] - 13s 16ms/sample - loss: 0.1372 - accuracy: 0.9590 - val_loss: 1.3529 - val_accuracy: 0.6047\n",
            "Epoch 13/20\n",
            "805/805 [==============================] - 13s 16ms/sample - loss: 0.1611 - accuracy: 0.9466 - val_loss: 1.3272 - val_accuracy: 0.5814\n",
            "Epoch 14/20\n",
            "805/805 [==============================] - 13s 16ms/sample - loss: 0.1416 - accuracy: 0.9528 - val_loss: 1.6315 - val_accuracy: 0.5349\n",
            "Epoch 15/20\n",
            "805/805 [==============================] - 13s 16ms/sample - loss: 0.1087 - accuracy: 0.9739 - val_loss: 1.5114 - val_accuracy: 0.5814\n",
            "Epoch 16/20\n",
            "805/805 [==============================] - 13s 16ms/sample - loss: 0.1168 - accuracy: 0.9602 - val_loss: 1.5524 - val_accuracy: 0.5814\n",
            "Epoch 17/20\n",
            "805/805 [==============================] - 13s 16ms/sample - loss: 0.0893 - accuracy: 0.9665 - val_loss: 1.6356 - val_accuracy: 0.6047\n",
            "Epoch 18/20\n",
            "805/805 [==============================] - 13s 16ms/sample - loss: 0.0886 - accuracy: 0.9764 - val_loss: 1.5382 - val_accuracy: 0.6279\n",
            "Epoch 19/20\n",
            "805/805 [==============================] - 13s 16ms/sample - loss: 0.0856 - accuracy: 0.9801 - val_loss: 1.7258 - val_accuracy: 0.6047\n",
            "Epoch 20/20\n",
            "805/805 [==============================] - 13s 16ms/sample - loss: 0.0622 - accuracy: 0.9863 - val_loss: 1.7121 - val_accuracy: 0.5581\n"
          ],
          "name": "stdout"
        }
      ]
    },
    {
      "cell_type": "code",
      "metadata": {
        "id": "oV-QpxpVJBVU",
        "colab_type": "code",
        "outputId": "deac5e07-07d5-445a-ca85-36e0e0d7579c",
        "colab": {
          "base_uri": "https://localhost:8080/",
          "height": 33
        }
      },
      "source": [
        "# Evaluate the model\n",
        "loss, accuracy = model.evaluate(x_test_pad, y_test, verbose=1)"
      ],
      "execution_count": 0,
      "outputs": [
        {
          "output_type": "stream",
          "text": [
            "213/213 [==============================] - 1s 3ms/sample - loss: 2.0060 - accuracy: 0.5822\n"
          ],
          "name": "stdout"
        }
      ]
    },
    {
      "cell_type": "code",
      "metadata": {
        "id": "ov2VH64anmHf",
        "colab_type": "code",
        "outputId": "269c95ba-43f4-482d-cae0-c00fbfb662de",
        "colab": {
          "base_uri": "https://localhost:8080/",
          "height": 295
        }
      },
      "source": [
        "plt.plot(history.history['accuracy'])\n",
        "plt.plot(history.history['val_accuracy'])\n",
        "plt.title(\"Accuracy Curves\")\n",
        "plt.legend([\"trg_acc\", \"val_acc\"])\n",
        "plt.xlabel(\"Epochs\")\n",
        "plt.show()"
      ],
      "execution_count": 0,
      "outputs": [
        {
          "output_type": "display_data",
          "data": {
            "image/png": "[encoded data removed]",
            "text/plain": [
              "<Figure size 432x288 with 1 Axes>"
            ]
          },
          "metadata": {
            "tags": [],
            "needs_background": "light"
          }
        }
      ]
    },
    {
      "cell_type": "code",
      "metadata": {
        "id": "w2yoR8Q6p1L4",
        "colab_type": "code",
        "outputId": "10980ec0-f9d0-4e50-bd10-85f20b56c46d",
        "colab": {
          "base_uri": "https://localhost:8080/",
          "height": 295
        }
      },
      "source": [
        "plt.plot(history.history['loss'])\n",
        "plt.plot(history.history['val_loss'])\n",
        "plt.title(\"Loss Curves\")\n",
        "plt.legend([\"loss\", \"val_loss\"])\n",
        "plt.xlabel(\"Epochs\")\n",
        "plt.show()"
      ],
      "execution_count": 0,
      "outputs": [
        {
          "output_type": "display_data",
          "data": {
            "image/png": "[encoded data removed]",
            "text/plain": [
              "<Figure size 432x288 with 1 Axes>"
            ]
          },
          "metadata": {
            "tags": [],
            "needs_background": "light"
          }
        }
      ]
    },
    {
      "cell_type": "code",
      "metadata": {
        "id": "6r5GgZcNN3hm",
        "colab_type": "code",
        "colab": {}
      },
      "source": [
        "predictions_gru = model.predict_classes(x_test_pad)"
      ],
      "execution_count": 0,
      "outputs": []
    },
    {
      "cell_type": "code",
      "metadata": {
        "colab_type": "code",
        "id": "Qazt9ObqXGj6",
        "outputId": "3688d404-5e96-407f-aae6-beee3f71c5c7",
        "colab": {
          "base_uri": "https://localhost:8080/",
          "height": 1000
        }
      },
      "source": [
        "print(predictions_gru)"
      ],
      "execution_count": 0,
      "outputs": [
        {
          "output_type": "stream",
          "text": [
            "[[0]\n",
            " [0]\n",
            " [0]\n",
            " [0]\n",
            " [0]\n",
            " [0]\n",
            " [1]\n",
            " [0]\n",
            " [0]\n",
            " [0]\n",
            " [0]\n",
            " [1]\n",
            " [1]\n",
            " [1]\n",
            " [1]\n",
            " [0]\n",
            " [1]\n",
            " [1]\n",
            " [0]\n",
            " [1]\n",
            " [1]\n",
            " [0]\n",
            " [0]\n",
            " [0]\n",
            " [0]\n",
            " [1]\n",
            " [1]\n",
            " [0]\n",
            " [0]\n",
            " [1]\n",
            " [0]\n",
            " [0]\n",
            " [0]\n",
            " [1]\n",
            " [1]\n",
            " [0]\n",
            " [1]\n",
            " [0]\n",
            " [1]\n",
            " [1]\n",
            " [0]\n",
            " [0]\n",
            " [0]\n",
            " [1]\n",
            " [0]\n",
            " [0]\n",
            " [0]\n",
            " [0]\n",
            " [1]\n",
            " [0]\n",
            " [0]\n",
            " [0]\n",
            " [0]\n",
            " [0]\n",
            " [0]\n",
            " [0]\n",
            " [1]\n",
            " [1]\n",
            " [0]\n",
            " [1]\n",
            " [0]\n",
            " [0]\n",
            " [0]\n",
            " [1]\n",
            " [1]\n",
            " [1]\n",
            " [1]\n",
            " [0]\n",
            " [1]\n",
            " [0]\n",
            " [1]\n",
            " [0]\n",
            " [1]\n",
            " [0]\n",
            " [1]\n",
            " [1]\n",
            " [1]\n",
            " [0]\n",
            " [1]\n",
            " [0]\n",
            " [0]\n",
            " [0]\n",
            " [1]\n",
            " [1]\n",
            " [0]\n",
            " [1]\n",
            " [0]\n",
            " [0]\n",
            " [0]\n",
            " [0]\n",
            " [1]\n",
            " [0]\n",
            " [0]\n",
            " [1]\n",
            " [1]\n",
            " [0]\n",
            " [1]\n",
            " [0]\n",
            " [1]\n",
            " [0]\n",
            " [1]\n",
            " [0]\n",
            " [1]\n",
            " [1]\n",
            " [1]\n",
            " [0]\n",
            " [1]\n",
            " [0]\n",
            " [0]\n",
            " [0]\n",
            " [1]\n",
            " [0]\n",
            " [1]\n",
            " [0]\n",
            " [0]\n",
            " [1]\n",
            " [0]\n",
            " [1]\n",
            " [0]\n",
            " [0]\n",
            " [0]\n",
            " [0]\n",
            " [1]\n",
            " [1]\n",
            " [0]\n",
            " [0]\n",
            " [1]\n",
            " [0]\n",
            " [1]\n",
            " [0]\n",
            " [1]\n",
            " [1]\n",
            " [0]\n",
            " [1]\n",
            " [1]\n",
            " [1]\n",
            " [1]\n",
            " [0]\n",
            " [1]\n",
            " [0]\n",
            " [0]\n",
            " [0]\n",
            " [1]\n",
            " [0]\n",
            " [0]\n",
            " [1]\n",
            " [0]\n",
            " [0]\n",
            " [1]\n",
            " [0]\n",
            " [0]\n",
            " [1]\n",
            " [0]\n",
            " [0]\n",
            " [0]\n",
            " [0]\n",
            " [0]\n",
            " [0]\n",
            " [1]\n",
            " [1]\n",
            " [1]\n",
            " [1]\n",
            " [1]\n",
            " [0]\n",
            " [0]\n",
            " [0]\n",
            " [0]\n",
            " [0]\n",
            " [1]\n",
            " [1]\n",
            " [1]\n",
            " [0]\n",
            " [0]\n",
            " [0]\n",
            " [0]\n",
            " [1]\n",
            " [0]\n",
            " [1]\n",
            " [0]\n",
            " [0]\n",
            " [0]\n",
            " [1]\n",
            " [0]\n",
            " [0]\n",
            " [0]\n",
            " [0]\n",
            " [0]\n",
            " [1]\n",
            " [1]\n",
            " [0]\n",
            " [1]\n",
            " [0]\n",
            " [0]\n",
            " [1]\n",
            " [0]\n",
            " [0]\n",
            " [1]\n",
            " [0]\n",
            " [1]\n",
            " [1]\n",
            " [1]\n",
            " [1]\n",
            " [0]\n",
            " [1]\n",
            " [1]\n",
            " [0]\n",
            " [1]\n",
            " [0]\n",
            " [0]\n",
            " [0]\n",
            " [1]\n",
            " [0]\n",
            " [1]]\n"
          ],
          "name": "stdout"
        }
      ]
    },
    {
      "cell_type": "code",
      "metadata": {
        "id": "OkE_8QnKXYEv",
        "colab_type": "code",
        "outputId": "afc622d2-fa6d-4eff-ad7e-64cd4a8f9afd",
        "colab": {
          "base_uri": "https://localhost:8080/",
          "height": 33
        }
      },
      "source": [
        "predictions_gru.shape"
      ],
      "execution_count": 0,
      "outputs": [
        {
          "output_type": "execute_result",
          "data": {
            "text/plain": [
              "(213, 1)"
            ]
          },
          "metadata": {
            "tags": []
          },
          "execution_count": 22
        }
      ]
    },
    {
      "cell_type": "code",
      "metadata": {
        "id": "NJp6GS7Yz6Bx",
        "colab_type": "code",
        "outputId": "723a27b6-1744-47a6-8b57-6aaef3389673",
        "colab": {
          "base_uri": "https://localhost:8080/",
          "height": 33
        }
      },
      "source": [
        "from sklearn.metrics import f1_score\n",
        "gru_f1 = f1_score(y_test, predictions_gru, average='macro')\n",
        "print(\"F1 Score for GRU is:\", gru_f1)"
      ],
      "execution_count": 0,
      "outputs": [
        {
          "output_type": "stream",
          "text": [
            "F1 Score for GRU is: 0.5776540046786232\n"
          ],
          "name": "stdout"
        }
      ]
    },
    {
      "cell_type": "markdown",
      "metadata": {
        "id": "4vDpSILsJGwj",
        "colab_type": "text"
      },
      "source": [
        "# Symbolic AI"
      ]
    },
    {
      "cell_type": "code",
      "metadata": {
        "id": "q5HpZYjTJBVY",
        "colab_type": "code",
        "outputId": "933d389a-0f47-409a-abdd-9aae40653bb5",
        "colab": {
          "base_uri": "https://localhost:8080/",
          "height": 103
        }
      },
      "source": [
        "nltk.download('vader_lexicon')\n",
        "from nltk.sentiment.vader import SentimentIntensityAnalyzer\n",
        "from sklearn.metrics import accuracy_score\n",
        " \n",
        " \n",
        "vader = SentimentIntensityAnalyzer()\n",
        "def vader_polarity(text):\n",
        "    \"\"\" Transform the output to a binary 0/1 result \"\"\"\n",
        "    score = vader.polarity_scores(text)\n",
        "    return 1 if score['pos'] > score['neg'] else 0\n",
        "\n",
        "predictions_vader = [vader_polarity(text) for text in x_test]"
      ],
      "execution_count": 0,
      "outputs": [
        {
          "output_type": "stream",
          "text": [
            "[nltk_data] Downloading package vader_lexicon to /root/nltk_data...\n",
            "[nltk_data]   Package vader_lexicon is already up-to-date!\n"
          ],
          "name": "stdout"
        },
        {
          "output_type": "stream",
          "text": [
            "/usr/local/lib/python3.6/dist-packages/nltk/twitter/__init__.py:20: UserWarning: The twython library has not been installed. Some functionality from the twitter package will not be available.\n",
            "  warnings.warn(\"The twython library has not been installed. \"\n"
          ],
          "name": "stderr"
        }
      ]
    },
    {
      "cell_type": "code",
      "metadata": {
        "id": "UTKMn0x6Xab9",
        "colab_type": "code",
        "colab": {}
      },
      "source": [
        "predictions_vader = np.array(predictions_vader).reshape(-1,1)"
      ],
      "execution_count": 0,
      "outputs": []
    },
    {
      "cell_type": "code",
      "metadata": {
        "id": "85PMFMgfXMf1",
        "colab_type": "code",
        "outputId": "6a5e1932-097a-497c-ce2e-be9c9bb91ee6",
        "colab": {
          "base_uri": "https://localhost:8080/",
          "height": 33
        }
      },
      "source": [
        "# print(predictions_vader)\n",
        "vader_f1 = f1_score(y_test, predictions_vader, average='macro')\n",
        "\n",
        "print(\"F1 Score for Symbolic AI method is:\", vader_f1)"
      ],
      "execution_count": 0,
      "outputs": [
        {
          "output_type": "stream",
          "text": [
            "F1 Score for Symbolic AI method is: 0.6525745018515254\n"
          ],
          "name": "stdout"
        }
      ]
    },
    {
      "cell_type": "markdown",
      "metadata": {
        "id": "Y820IW63KqDo",
        "colab_type": "text"
      },
      "source": [
        "# Bert"
      ]
    },
    {
      "cell_type": "code",
      "metadata": {
        "id": "acBGuuTgKsnN",
        "colab_type": "code",
        "outputId": "fcda8287-d5ec-45c1-e211-23ce3343e50f",
        "colab": {
          "base_uri": "https://localhost:8080/",
          "height": 1000
        }
      },
      "source": [
        "!pip3 install ktrain\n",
        "\n",
        "import ktrain\n",
        "from ktrain import text"
      ],
      "execution_count": 0,
      "outputs": [
        {
          "output_type": "stream",
          "text": [
            "Requirement already satisfied: ktrain in /usr/local/lib/python3.6/dist-packages (0.14.2)\n",
            "Requirement already satisfied: seqeval in /usr/local/lib/python3.6/dist-packages (from ktrain) (0.0.12)\n",
            "Requirement already satisfied: requests in /usr/local/lib/python3.6/dist-packages (from ktrain) (2.21.0)\n",
            "Requirement already satisfied: ipython in /usr/local/lib/python3.6/dist-packages (from ktrain) (5.5.0)\n",
            "Requirement already satisfied: scikit-learn>=0.21.3 in /usr/local/lib/python3.6/dist-packages (from ktrain) (0.22.2.post1)\n",
            "Requirement already satisfied: langdetect in /usr/local/lib/python3.6/dist-packages (from ktrain) (1.0.8)\n",
            "Requirement already satisfied: matplotlib>=3.0.0 in /usr/local/lib/python3.6/dist-packages (from ktrain) (3.2.1)\n",
            "Requirement already satisfied: jieba in /usr/local/lib/python3.6/dist-packages (from ktrain) (0.42.1)\n",
            "Requirement already satisfied: bokeh in /usr/local/lib/python3.6/dist-packages (from ktrain) (1.4.0)\n",
            "Requirement already satisfied: tensorflow-datasets in /usr/local/lib/python3.6/dist-packages (from ktrain) (2.1.0)\n",
            "Requirement already satisfied: transformers>=2.7.0 in /usr/local/lib/python3.6/dist-packages (from ktrain) (2.8.0)\n",
            "Requirement already satisfied: syntok in /usr/local/lib/python3.6/dist-packages (from ktrain) (1.2.2)\n",
            "Requirement already satisfied: cchardet in /usr/local/lib/python3.6/dist-packages (from ktrain) (2.1.6)\n",
            "Requirement already satisfied: keras-bert>=0.81.0 in /usr/local/lib/python3.6/dist-packages (from ktrain) (0.81.0)\n",
            "Requirement already satisfied: joblib in /usr/local/lib/python3.6/dist-packages (from ktrain) (0.14.1)\n",
            "Requirement already satisfied: whoosh in /usr/local/lib/python3.6/dist-packages (from ktrain) (2.7.4)\n",
            "Requirement already satisfied: networkx>=2.3 in /usr/local/lib/python3.6/dist-packages (from ktrain) (2.4)\n",
            "Requirement already satisfied: fastprogress>=0.1.21 in /usr/local/lib/python3.6/dist-packages (from ktrain) (0.2.3)\n",
            "Requirement already satisfied: pandas>=1.0.1 in /usr/local/lib/python3.6/dist-packages (from ktrain) (1.0.3)\n",
            "Requirement already satisfied: tensorflow==2.1.0 in /usr/local/lib/python3.6/dist-packages (from ktrain) (2.1.0)\n",
            "Requirement already satisfied: packaging in /usr/local/lib/python3.6/dist-packages (from ktrain) (20.3)\n",
            "Requirement already satisfied: numpy>=1.14.0 in /usr/local/lib/python3.6/dist-packages (from seqeval->ktrain) (1.18.3)\n",
            "Requirement already satisfied: Keras>=2.2.4 in /usr/local/lib/python3.6/dist-packages (from seqeval->ktrain) (2.3.1)\n",
            "Requirement already satisfied: certifi>=2017.4.17 in /usr/local/lib/python3.6/dist-packages (from requests->ktrain) (2020.4.5.1)\n",
            "Requirement already satisfied: chardet<3.1.0,>=3.0.2 in /usr/local/lib/python3.6/dist-packages (from requests->ktrain) (3.0.4)\n",
            "Requirement already satisfied: urllib3<1.25,>=1.21.1 in /usr/local/lib/python3.6/dist-packages (from requests->ktrain) (1.24.3)\n",
            "Requirement already satisfied: idna<2.9,>=2.5 in /usr/local/lib/python3.6/dist-packages (from requests->ktrain) (2.8)\n",
            "Requirement already satisfied: setuptools>=18.5 in /usr/local/lib/python3.6/dist-packages (from ipython->ktrain) (46.1.3)\n",
            "Requirement already satisfied: simplegeneric>0.8 in /usr/local/lib/python3.6/dist-packages (from ipython->ktrain) (0.8.1)\n",
            "Requirement already satisfied: pygments in /usr/local/lib/python3.6/dist-packages (from ipython->ktrain) (2.1.3)\n",
            "Requirement already satisfied: pickleshare in /usr/local/lib/python3.6/dist-packages (from ipython->ktrain) (0.7.5)\n",
            "Requirement already satisfied: traitlets>=4.2 in /usr/local/lib/python3.6/dist-packages (from ipython->ktrain) (4.3.3)\n",
            "Requirement already satisfied: pexpect; sys_platform != \"win32\" in /usr/local/lib/python3.6/dist-packages (from ipython->ktrain) (4.8.0)\n",
            "Requirement already satisfied: prompt-toolkit<2.0.0,>=1.0.4 in /usr/local/lib/python3.6/dist-packages (from ipython->ktrain) (1.0.18)\n",
            "Requirement already satisfied: decorator in /usr/local/lib/python3.6/dist-packages (from ipython->ktrain) (4.4.2)\n",
            "Requirement already satisfied: scipy>=0.17.0 in /usr/local/lib/python3.6/dist-packages (from scikit-learn>=0.21.3->ktrain) (1.4.1)\n",
            "Requirement already satisfied: six in /usr/local/lib/python3.6/dist-packages (from langdetect->ktrain) (1.12.0)\n",
            "Requirement already satisfied: python-dateutil>=2.1 in /usr/local/lib/python3.6/dist-packages (from matplotlib>=3.0.0->ktrain) (2.8.1)\n",
            "Requirement already satisfied: pyparsing!=2.0.4,!=2.1.2,!=2.1.6,>=2.0.1 in /usr/local/lib/python3.6/dist-packages (from matplotlib>=3.0.0->ktrain) (2.4.7)\n",
            "Requirement already satisfied: cycler>=0.10 in /usr/local/lib/python3.6/dist-packages (from matplotlib>=3.0.0->ktrain) (0.10.0)\n",
            "Requirement already satisfied: kiwisolver>=1.0.1 in /usr/local/lib/python3.6/dist-packages (from matplotlib>=3.0.0->ktrain) (1.2.0)\n",
            "Requirement already satisfied: PyYAML>=3.10 in /usr/local/lib/python3.6/dist-packages (from bokeh->ktrain) (3.13)\n",
            "Requirement already satisfied: pillow>=4.0 in /usr/local/lib/python3.6/dist-packages (from bokeh->ktrain) (7.0.0)\n",
            "Requirement already satisfied: Jinja2>=2.7 in /usr/local/lib/python3.6/dist-packages (from bokeh->ktrain) (2.11.2)\n",
            "Requirement already satisfied: tornado>=4.3 in /usr/local/lib/python3.6/dist-packages (from bokeh->ktrain) (4.5.3)\n",
            "Requirement already satisfied: tensorflow-metadata in /usr/local/lib/python3.6/dist-packages (from tensorflow-datasets->ktrain) (0.21.2)\n",
            "Requirement already satisfied: absl-py in /usr/local/lib/python3.6/dist-packages (from tensorflow-datasets->ktrain) (0.9.0)\n",
            "Requirement already satisfied: promise in /usr/local/lib/python3.6/dist-packages (from tensorflow-datasets->ktrain) (2.3)\n",
            "Requirement already satisfied: tqdm in /usr/local/lib/python3.6/dist-packages (from tensorflow-datasets->ktrain) (4.38.0)\n",
            "Requirement already satisfied: future in /usr/local/lib/python3.6/dist-packages (from tensorflow-datasets->ktrain) (0.16.0)\n",
            "Requirement already satisfied: termcolor in /usr/local/lib/python3.6/dist-packages (from tensorflow-datasets->ktrain) (1.1.0)\n",
            "Requirement already satisfied: dill in /usr/local/lib/python3.6/dist-packages (from tensorflow-datasets->ktrain) (0.3.1.1)\n",
            "Requirement already satisfied: protobuf>=3.6.1 in /usr/local/lib/python3.6/dist-packages (from tensorflow-datasets->ktrain) (3.10.0)\n",
            "Requirement already satisfied: wrapt in /usr/local/lib/python3.6/dist-packages (from tensorflow-datasets->ktrain) (1.12.1)\n",
            "Requirement already satisfied: attrs>=18.1.0 in /usr/local/lib/python3.6/dist-packages (from tensorflow-datasets->ktrain) (19.3.0)\n",
            "Requirement already satisfied: dataclasses; python_version < \"3.7\" in /usr/local/lib/python3.6/dist-packages (from transformers>=2.7.0->ktrain) (0.7)\n",
            "Requirement already satisfied: filelock in /usr/local/lib/python3.6/dist-packages (from transformers>=2.7.0->ktrain) (3.0.12)\n",
            "Requirement already satisfied: sentencepiece in /usr/local/lib/python3.6/dist-packages (from transformers>=2.7.0->ktrain) (0.1.86)\n",
            "Requirement already satisfied: sacremoses in /usr/local/lib/python3.6/dist-packages (from transformers>=2.7.0->ktrain) (0.0.41)\n",
            "Requirement already satisfied: regex!=2019.12.17 in /usr/local/lib/python3.6/dist-packages (from transformers>=2.7.0->ktrain) (2019.12.20)\n",
            "Requirement already satisfied: tokenizers==0.5.2 in /usr/local/lib/python3.6/dist-packages (from transformers>=2.7.0->ktrain) (0.5.2)\n",
            "Requirement already satisfied: boto3 in /usr/local/lib/python3.6/dist-packages (from transformers>=2.7.0->ktrain) (1.12.43)\n",
            "Requirement already satisfied: keras-transformer>=0.30.0 in /usr/local/lib/python3.6/dist-packages (from keras-bert>=0.81.0->ktrain) (0.32.0)\n",
            "Requirement already satisfied: pytz>=2017.2 in /usr/local/lib/python3.6/dist-packages (from pandas>=1.0.1->ktrain) (2018.9)\n",
            "Requirement already satisfied: wheel>=0.26; python_version >= \"3\" in /usr/local/lib/python3.6/dist-packages (from tensorflow==2.1.0->ktrain) (0.34.2)\n",
            "Requirement already satisfied: keras-applications>=1.0.8 in /usr/local/lib/python3.6/dist-packages (from tensorflow==2.1.0->ktrain) (1.0.8)\n",
            "Requirement already satisfied: tensorflow-estimator<2.2.0,>=2.1.0rc0 in /usr/local/lib/python3.6/dist-packages (from tensorflow==2.1.0->ktrain) (2.1.0)\n",
            "Requirement already satisfied: tensorboard<2.2.0,>=2.1.0 in /usr/local/lib/python3.6/dist-packages (from tensorflow==2.1.0->ktrain) (2.1.1)\n",
            "Requirement already satisfied: keras-preprocessing>=1.1.0 in /usr/local/lib/python3.6/dist-packages (from tensorflow==2.1.0->ktrain) (1.1.0)\n",
            "Requirement already satisfied: google-pasta>=0.1.6 in /usr/local/lib/python3.6/dist-packages (from tensorflow==2.1.0->ktrain) (0.2.0)\n",
            "Requirement already satisfied: opt-einsum>=2.3.2 in /usr/local/lib/python3.6/dist-packages (from tensorflow==2.1.0->ktrain) (3.2.1)\n",
            "Requirement already satisfied: gast==0.2.2 in /usr/local/lib/python3.6/dist-packages (from tensorflow==2.1.0->ktrain) (0.2.2)\n",
            "Requirement already satisfied: grpcio>=1.8.6 in /usr/local/lib/python3.6/dist-packages (from tensorflow==2.1.0->ktrain) (1.28.1)\n",
            "Requirement already satisfied: astor>=0.6.0 in /usr/local/lib/python3.6/dist-packages (from tensorflow==2.1.0->ktrain) (0.8.1)\n",
            "Requirement already satisfied: h5py in /usr/local/lib/python3.6/dist-packages (from Keras>=2.2.4->seqeval->ktrain) (2.10.0)\n",
            "Requirement already satisfied: ipython-genutils in /usr/local/lib/python3.6/dist-packages (from traitlets>=4.2->ipython->ktrain) (0.2.0)\n",
            "Requirement already satisfied: ptyprocess>=0.5 in /usr/local/lib/python3.6/dist-packages (from pexpect; sys_platform != \"win32\"->ipython->ktrain) (0.6.0)\n",
            "Requirement already satisfied: wcwidth in /usr/local/lib/python3.6/dist-packages (from prompt-toolkit<2.0.0,>=1.0.4->ipython->ktrain) (0.1.9)\n",
            "Requirement already satisfied: MarkupSafe>=0.23 in /usr/local/lib/python3.6/dist-packages (from Jinja2>=2.7->bokeh->ktrain) (1.1.1)\n",
            "Requirement already satisfied: googleapis-common-protos in /usr/local/lib/python3.6/dist-packages (from tensorflow-metadata->tensorflow-datasets->ktrain) (1.51.0)\n",
            "Requirement already satisfied: click in /usr/local/lib/python3.6/dist-packages (from sacremoses->transformers>=2.7.0->ktrain) (7.1.1)\n",
            "Requirement already satisfied: s3transfer<0.4.0,>=0.3.0 in /usr/local/lib/python3.6/dist-packages (from boto3->transformers>=2.7.0->ktrain) (0.3.3)\n",
            "Requirement already satisfied: jmespath<1.0.0,>=0.7.1 in /usr/local/lib/python3.6/dist-packages (from boto3->transformers>=2.7.0->ktrain) (0.9.5)\n",
            "Requirement already satisfied: botocore<1.16.0,>=1.15.43 in /usr/local/lib/python3.6/dist-packages (from boto3->transformers>=2.7.0->ktrain) (1.15.43)\n",
            "Requirement already satisfied: keras-layer-normalization>=0.12.0 in /usr/local/lib/python3.6/dist-packages (from keras-transformer>=0.30.0->keras-bert>=0.81.0->ktrain) (0.14.0)\n",
            "Requirement already satisfied: keras-pos-embd>=0.10.0 in /usr/local/lib/python3.6/dist-packages (from keras-transformer>=0.30.0->keras-bert>=0.81.0->ktrain) (0.11.0)\n",
            "Requirement already satisfied: keras-multi-head>=0.22.0 in /usr/local/lib/python3.6/dist-packages (from keras-transformer>=0.30.0->keras-bert>=0.81.0->ktrain) (0.22.0)\n",
            "Requirement already satisfied: keras-position-wise-feed-forward>=0.5.0 in /usr/local/lib/python3.6/dist-packages (from keras-transformer>=0.30.0->keras-bert>=0.81.0->ktrain) (0.6.0)\n",
            "Requirement already satisfied: keras-embed-sim>=0.7.0 in /usr/local/lib/python3.6/dist-packages (from keras-transformer>=0.30.0->keras-bert>=0.81.0->ktrain) (0.7.0)\n",
            "Requirement already satisfied: werkzeug>=0.11.15 in /usr/local/lib/python3.6/dist-packages (from tensorboard<2.2.0,>=2.1.0->tensorflow==2.1.0->ktrain) (1.0.1)\n",
            "Requirement already satisfied: google-auth-oauthlib<0.5,>=0.4.1 in /usr/local/lib/python3.6/dist-packages (from tensorboard<2.2.0,>=2.1.0->tensorflow==2.1.0->ktrain) (0.4.1)\n",
            "Requirement already satisfied: markdown>=2.6.8 in /usr/local/lib/python3.6/dist-packages (from tensorboard<2.2.0,>=2.1.0->tensorflow==2.1.0->ktrain) (3.2.1)\n",
            "Requirement already satisfied: google-auth<2,>=1.6.3 in /usr/local/lib/python3.6/dist-packages (from tensorboard<2.2.0,>=2.1.0->tensorflow==2.1.0->ktrain) (1.7.2)\n",
            "Requirement already satisfied: docutils<0.16,>=0.10 in /usr/local/lib/python3.6/dist-packages (from botocore<1.16.0,>=1.15.43->boto3->transformers>=2.7.0->ktrain) (0.15.2)\n",
            "Requirement already satisfied: keras-self-attention==0.41.0 in /usr/local/lib/python3.6/dist-packages (from keras-multi-head>=0.22.0->keras-transformer>=0.30.0->keras-bert>=0.81.0->ktrain) (0.41.0)\n",
            "Requirement already satisfied: requests-oauthlib>=0.7.0 in /usr/local/lib/python3.6/dist-packages (from google-auth-oauthlib<0.5,>=0.4.1->tensorboard<2.2.0,>=2.1.0->tensorflow==2.1.0->ktrain) (1.3.0)\n",
            "Requirement already satisfied: cachetools<3.2,>=2.0.0 in /usr/local/lib/python3.6/dist-packages (from google-auth<2,>=1.6.3->tensorboard<2.2.0,>=2.1.0->tensorflow==2.1.0->ktrain) (3.1.1)\n",
            "Requirement already satisfied: rsa<4.1,>=3.1.4 in /usr/local/lib/python3.6/dist-packages (from google-auth<2,>=1.6.3->tensorboard<2.2.0,>=2.1.0->tensorflow==2.1.0->ktrain) (4.0)\n",
            "Requirement already satisfied: pyasn1-modules>=0.2.1 in /usr/local/lib/python3.6/dist-packages (from google-auth<2,>=1.6.3->tensorboard<2.2.0,>=2.1.0->tensorflow==2.1.0->ktrain) (0.2.8)\n",
            "Requirement already satisfied: oauthlib>=3.0.0 in /usr/local/lib/python3.6/dist-packages (from requests-oauthlib>=0.7.0->google-auth-oauthlib<0.5,>=0.4.1->tensorboard<2.2.0,>=2.1.0->tensorflow==2.1.0->ktrain) (3.1.0)\n",
            "Requirement already satisfied: pyasn1>=0.1.3 in /usr/local/lib/python3.6/dist-packages (from rsa<4.1,>=3.1.4->google-auth<2,>=1.6.3->tensorboard<2.2.0,>=2.1.0->tensorflow==2.1.0->ktrain) (0.4.8)\n"
          ],
          "name": "stdout"
        }
      ]
    },
    {
      "cell_type": "code",
      "metadata": {
        "id": "cJGf1389QDya",
        "colab_type": "code",
        "colab": {}
      },
      "source": [
        "train_bert = pd.concat([x_train, y_train], axis=1, names=['preprocessed_quotes', 'sentiments'])"
      ],
      "execution_count": 0,
      "outputs": []
    },
    {
      "cell_type": "code",
      "metadata": {
        "id": "NS_abOTRZEEC",
        "colab_type": "code",
        "outputId": "02ee1b37-72ee-4a73-bfc5-cfee41444eb3",
        "colab": {
          "base_uri": "https://localhost:8080/",
          "height": 33
        }
      },
      "source": [
        "train_bert.shape"
      ],
      "execution_count": 0,
      "outputs": [
        {
          "output_type": "execute_result",
          "data": {
            "text/plain": [
              "(848, 2)"
            ]
          },
          "metadata": {
            "tags": []
          },
          "execution_count": 29
        }
      ]
    },
    {
      "cell_type": "code",
      "metadata": {
        "id": "JEakAd_JOfI2",
        "colab_type": "code",
        "outputId": "13a36929-7e24-4a2c-95a3-06fde3f3feff",
        "colab": {
          "base_uri": "https://localhost:8080/",
          "height": 247
        }
      },
      "source": [
        "(x_train_bert, y_train_bert, preproc) = text.texts_from_df(train_bert, \n",
        "                   text_column='processed_quotes', \\\n",
        "                   label_columns = 'sentiments', \\\n",
        "                   random_state=0, \\\n",
        "                    maxlen=500, \\\n",
        "                    preprocess_mode='bert') \\"
      ],
      "execution_count": 0,
      "outputs": [
        {
          "output_type": "stream",
          "text": [
            "downloading pretrained BERT model (uncased_L-12_H-768_A-12.zip)...\n",
            "[██████████████████████████████████████████████████]\n",
            "extracting pretrained BERT model...\n",
            "done.\n",
            "\n",
            "cleanup downloaded zip...\n",
            "done.\n",
            "\n",
            "preprocessing train...\n",
            "language: en\n"
          ],
          "name": "stdout"
        },
        {
          "output_type": "display_data",
          "data": {
            "text/html": [
              "done."
            ],
            "text/plain": [
              "<IPython.core.display.HTML object>"
            ]
          },
          "metadata": {
            "tags": []
          }
        },
        {
          "output_type": "stream",
          "text": [
            "preprocessing test...\n",
            "language: en\n"
          ],
          "name": "stdout"
        },
        {
          "output_type": "display_data",
          "data": {
            "text/html": [
              "done."
            ],
            "text/plain": [
              "<IPython.core.display.HTML object>"
            ]
          },
          "metadata": {
            "tags": []
          }
        }
      ]
    },
    {
      "cell_type": "code",
      "metadata": {
        "id": "3f8cQE1PaGzv",
        "colab_type": "code",
        "outputId": "42d7be34-bf99-4557-ff60-7c627486162f",
        "colab": {
          "base_uri": "https://localhost:8080/",
          "height": 1000
        }
      },
      "source": [
        "y_train_bert"
      ],
      "execution_count": 0,
      "outputs": [
        {
          "output_type": "execute_result",
          "data": {
            "text/plain": [
              "([array([[ 101, 1045, 2064, ...,    0,    0,    0],\n",
              "         [ 101, 1045, 2442, ...,    0,    0,    0],\n",
              "         [ 101, 2079, 2028, ...,    0,    0,    0],\n",
              "         ...,\n",
              "         [ 101, 2682, 2035, ...,    0,    0,    0],\n",
              "         [ 101, 2022, 2785, ...,    0,    0,    0],\n",
              "         [ 101, 2017, 2156, ...,    0,    0,    0]]),\n",
              "  array([[0, 0, 0, ..., 0, 0, 0],\n",
              "         [0, 0, 0, ..., 0, 0, 0],\n",
              "         [0, 0, 0, ..., 0, 0, 0],\n",
              "         ...,\n",
              "         [0, 0, 0, ..., 0, 0, 0],\n",
              "         [0, 0, 0, ..., 0, 0, 0],\n",
              "         [0, 0, 0, ..., 0, 0, 0]])],\n",
              " array([[0., 1.],\n",
              "        [1., 0.],\n",
              "        [1., 0.],\n",
              "        [1., 0.],\n",
              "        [0., 1.],\n",
              "        [0., 1.],\n",
              "        [0., 1.],\n",
              "        [0., 1.],\n",
              "        [0., 1.],\n",
              "        [1., 0.],\n",
              "        [0., 1.],\n",
              "        [0., 1.],\n",
              "        [0., 1.],\n",
              "        [0., 1.],\n",
              "        [0., 1.],\n",
              "        [1., 0.],\n",
              "        [1., 0.],\n",
              "        [1., 0.],\n",
              "        [1., 0.],\n",
              "        [1., 0.],\n",
              "        [1., 0.],\n",
              "        [0., 1.],\n",
              "        [1., 0.],\n",
              "        [0., 1.],\n",
              "        [0., 1.],\n",
              "        [1., 0.],\n",
              "        [1., 0.],\n",
              "        [0., 1.],\n",
              "        [1., 0.],\n",
              "        [0., 1.],\n",
              "        [0., 1.],\n",
              "        [1., 0.],\n",
              "        [0., 1.],\n",
              "        [0., 1.],\n",
              "        [1., 0.],\n",
              "        [1., 0.],\n",
              "        [0., 1.],\n",
              "        [1., 0.],\n",
              "        [0., 1.],\n",
              "        [1., 0.],\n",
              "        [0., 1.],\n",
              "        [0., 1.],\n",
              "        [0., 1.],\n",
              "        [1., 0.],\n",
              "        [0., 1.],\n",
              "        [1., 0.],\n",
              "        [0., 1.],\n",
              "        [0., 1.],\n",
              "        [0., 1.],\n",
              "        [1., 0.],\n",
              "        [0., 1.],\n",
              "        [1., 0.],\n",
              "        [1., 0.],\n",
              "        [1., 0.],\n",
              "        [0., 1.],\n",
              "        [1., 0.],\n",
              "        [0., 1.],\n",
              "        [0., 1.],\n",
              "        [0., 1.],\n",
              "        [0., 1.],\n",
              "        [1., 0.],\n",
              "        [0., 1.],\n",
              "        [0., 1.],\n",
              "        [0., 1.],\n",
              "        [1., 0.],\n",
              "        [1., 0.],\n",
              "        [1., 0.],\n",
              "        [0., 1.],\n",
              "        [0., 1.],\n",
              "        [0., 1.],\n",
              "        [1., 0.],\n",
              "        [1., 0.],\n",
              "        [0., 1.],\n",
              "        [0., 1.],\n",
              "        [1., 0.],\n",
              "        [1., 0.],\n",
              "        [1., 0.],\n",
              "        [0., 1.],\n",
              "        [1., 0.],\n",
              "        [0., 1.],\n",
              "        [0., 1.],\n",
              "        [1., 0.],\n",
              "        [1., 0.],\n",
              "        [1., 0.],\n",
              "        [1., 0.]], dtype=float32))"
            ]
          },
          "metadata": {
            "tags": []
          },
          "execution_count": 31
        }
      ]
    },
    {
      "cell_type": "code",
      "metadata": {
        "id": "dd3gJo6wQMHF",
        "colab_type": "code",
        "colab": {}
      },
      "source": [
        "test_bert = pd.concat([x_test, y_test], axis=1, names=['preprocessed_quotes', 'sentiments'])"
      ],
      "execution_count": 0,
      "outputs": []
    },
    {
      "cell_type": "code",
      "metadata": {
        "id": "yitO3qu7aR2G",
        "colab_type": "code",
        "outputId": "6d2d19aa-d5e2-451c-940c-2f704bf47c33",
        "colab": {
          "base_uri": "https://localhost:8080/",
          "height": 390
        }
      },
      "source": [
        "test_bert"
      ],
      "execution_count": 0,
      "outputs": [
        {
          "output_type": "execute_result",
          "data": {
            "text/html": [
              "<div>\n",
              "<style scoped>\n",
              "    .dataframe tbody tr th:only-of-type {\n",
              "        vertical-align: middle;\n",
              "    }\n",
              "\n",
              "    .dataframe tbody tr th {\n",
              "        vertical-align: top;\n",
              "    }\n",
              "\n",
              "    .dataframe thead th {\n",
              "        text-align: right;\n",
              "    }\n",
              "</style>\n",
              "<table border=\"1\" class=\"dataframe\">\n",
              "  <thead>\n",
              "    <tr style=\"text-align: right;\">\n",
              "      <th></th>\n",
              "      <th>processed_quotes</th>\n",
              "      <th>sentiments</th>\n",
              "    </tr>\n",
              "  </thead>\n",
              "  <tbody>\n",
              "    <tr>\n",
              "      <th>31</th>\n",
              "      <td>it is our choice harry that show what we truly...</td>\n",
              "      <td>1.0</td>\n",
              "    </tr>\n",
              "    <tr>\n",
              "      <th>413</th>\n",
              "      <td>we fell in love despite our difference and onc...</td>\n",
              "      <td>1.0</td>\n",
              "    </tr>\n",
              "    <tr>\n",
              "      <th>535</th>\n",
              "      <td>the mind is it own place and in itself can mak...</td>\n",
              "      <td>0.0</td>\n",
              "    </tr>\n",
              "    <tr>\n",
              "      <th>743</th>\n",
              "      <td>no book is really worth reading at the age of ...</td>\n",
              "      <td>0.0</td>\n",
              "    </tr>\n",
              "    <tr>\n",
              "      <th>792</th>\n",
              "      <td>i wa never really insane except upon occasion ...</td>\n",
              "      <td>1.0</td>\n",
              "    </tr>\n",
              "    <tr>\n",
              "      <th>...</th>\n",
              "      <td>...</td>\n",
              "      <td>...</td>\n",
              "    </tr>\n",
              "    <tr>\n",
              "      <th>581</th>\n",
              "      <td>think before you speak read before you think</td>\n",
              "      <td>1.0</td>\n",
              "    </tr>\n",
              "    <tr>\n",
              "      <th>55</th>\n",
              "      <td>i am enough of an artist to draw freely upon m...</td>\n",
              "      <td>1.0</td>\n",
              "    </tr>\n",
              "    <tr>\n",
              "      <th>120</th>\n",
              "      <td>it matter not what someone is born but what th...</td>\n",
              "      <td>1.0</td>\n",
              "    </tr>\n",
              "    <tr>\n",
              "      <th>388</th>\n",
              "      <td>nobody ha ever measured not even poet how much...</td>\n",
              "      <td>0.0</td>\n",
              "    </tr>\n",
              "    <tr>\n",
              "      <th>25</th>\n",
              "      <td>insanity is doing the same thing over and over...</td>\n",
              "      <td>0.0</td>\n",
              "    </tr>\n",
              "  </tbody>\n",
              "</table>\n",
              "<p>213 rows × 2 columns</p>\n",
              "</div>"
            ],
            "text/plain": [
              "                                      processed_quotes  sentiments\n",
              "31   it is our choice harry that show what we truly...         1.0\n",
              "413  we fell in love despite our difference and onc...         1.0\n",
              "535  the mind is it own place and in itself can mak...         0.0\n",
              "743  no book is really worth reading at the age of ...         0.0\n",
              "792  i wa never really insane except upon occasion ...         1.0\n",
              "..                                                 ...         ...\n",
              "581       think before you speak read before you think         1.0\n",
              "55   i am enough of an artist to draw freely upon m...         1.0\n",
              "120  it matter not what someone is born but what th...         1.0\n",
              "388  nobody ha ever measured not even poet how much...         0.0\n",
              "25   insanity is doing the same thing over and over...         0.0\n",
              "\n",
              "[213 rows x 2 columns]"
            ]
          },
          "metadata": {
            "tags": []
          },
          "execution_count": 33
        }
      ]
    },
    {
      "cell_type": "code",
      "metadata": {
        "id": "wdh9n3SNQYv6",
        "colab_type": "code",
        "outputId": "ff8b9ad8-3d6c-4dbc-858f-a17546993201",
        "colab": {
          "base_uri": "https://localhost:8080/",
          "height": 115
        }
      },
      "source": [
        "(x_test_bert, y_test_bert, preproc_test) = text.texts_from_df(test_bert, \n",
        "                   text_column='processed_quotes', \\\n",
        "                   label_columns = ['sentiments'], \\\n",
        "                   random_state=0, \\\n",
        "                    maxlen=500, \\\n",
        "                    preprocess_mode='bert') \\"
      ],
      "execution_count": 0,
      "outputs": [
        {
          "output_type": "stream",
          "text": [
            "preprocessing train...\n",
            "language: en\n"
          ],
          "name": "stdout"
        },
        {
          "output_type": "display_data",
          "data": {
            "text/html": [
              "done."
            ],
            "text/plain": [
              "<IPython.core.display.HTML object>"
            ]
          },
          "metadata": {
            "tags": []
          }
        },
        {
          "output_type": "stream",
          "text": [
            "preprocessing test...\n",
            "language: en\n"
          ],
          "name": "stdout"
        },
        {
          "output_type": "display_data",
          "data": {
            "text/html": [
              "done."
            ],
            "text/plain": [
              "<IPython.core.display.HTML object>"
            ]
          },
          "metadata": {
            "tags": []
          }
        }
      ]
    },
    {
      "cell_type": "code",
      "metadata": {
        "id": "MRRBs6tdbLYk",
        "colab_type": "code",
        "outputId": "1799571e-5031-4c7d-f0ba-e919c2f206a0",
        "colab": {
          "base_uri": "https://localhost:8080/",
          "height": 33
        }
      },
      "source": [
        "type(x_train)"
      ],
      "execution_count": 0,
      "outputs": [
        {
          "output_type": "execute_result",
          "data": {
            "text/plain": [
              "pandas.core.series.Series"
            ]
          },
          "metadata": {
            "tags": []
          },
          "execution_count": 35
        }
      ]
    },
    {
      "cell_type": "code",
      "metadata": {
        "id": "-Rn-ptKZeOYl",
        "colab_type": "code",
        "outputId": "415ff41f-01c3-4404-d35a-97c39aac805e",
        "colab": {
          "base_uri": "https://localhost:8080/",
          "height": 132
        }
      },
      "source": [
        "(x_train_bert,  y_train_bert), (x_test_bert, y_test_bert), preproc = text.texts_from_array(x_train=x_train.tolist(), y_train=y_train.tolist(),\n",
        "                                                                       x_test=x_test.tolist(), y_test=y_test.tolist(),\n",
        "                                                                       class_names=[0., 1.],\n",
        "                                                                       preprocess_mode='bert',\n",
        "                                                                       maxlen=350)"
      ],
      "execution_count": 0,
      "outputs": [
        {
          "output_type": "stream",
          "text": [
            "task: text classification\n",
            "preprocessing train...\n",
            "language: en\n"
          ],
          "name": "stdout"
        },
        {
          "output_type": "display_data",
          "data": {
            "text/html": [
              "done."
            ],
            "text/plain": [
              "<IPython.core.display.HTML object>"
            ]
          },
          "metadata": {
            "tags": []
          }
        },
        {
          "output_type": "stream",
          "text": [
            "preprocessing test...\n",
            "language: en\n"
          ],
          "name": "stdout"
        },
        {
          "output_type": "display_data",
          "data": {
            "text/html": [
              "done."
            ],
            "text/plain": [
              "<IPython.core.display.HTML object>"
            ]
          },
          "metadata": {
            "tags": []
          }
        }
      ]
    },
    {
      "cell_type": "code",
      "metadata": {
        "id": "-AAyImmLM3Q_",
        "colab_type": "code",
        "outputId": "348b1846-5f97-4804-be24-db305a17ec44",
        "colab": {
          "base_uri": "https://localhost:8080/",
          "height": 66
        }
      },
      "source": [
        "model_bert = text.text_classifier('bert', train_data=(x_train_bert,y_train_bert), preproc=preproc)\n",
        "learner = ktrain.get_learner(model_bert,train_data=(x_train_bert,y_train_bert), val_data=(x_test_bert, y_test_bert), batch_size=6)"
      ],
      "execution_count": 0,
      "outputs": [
        {
          "output_type": "stream",
          "text": [
            "Is Multi-Label? False\n",
            "maxlen is 350\n",
            "done.\n"
          ],
          "name": "stdout"
        }
      ]
    },
    {
      "cell_type": "code",
      "metadata": {
        "id": "9ixy1DYVM5xm",
        "colab_type": "code",
        "outputId": "c8e75670-9d82-4712-c8fb-a6fa59f3801d",
        "colab": {
          "base_uri": "https://localhost:8080/",
          "height": 99
        }
      },
      "source": [
        "bert_epoch = 1\n",
        "for i in range (bert_epoch):\n",
        "  learner.fit_onecycle(2e-5, 1)"
      ],
      "execution_count": 0,
      "outputs": [
        {
          "output_type": "stream",
          "text": [
            "\n",
            "\n",
            "begin training using onecycle policy with max lr of 2e-05...\n",
            "Train on 848 samples, validate on 213 samples\n",
            "848/848 [==============================] - 151s 178ms/sample - loss: 0.6827 - accuracy: 0.5943 - val_loss: 0.6058 - val_accuracy: 0.7512\n"
          ],
          "name": "stdout"
        }
      ]
    },
    {
      "cell_type": "code",
      "metadata": {
        "id": "H40CCgM_5v12",
        "colab_type": "code",
        "colab": {}
      },
      "source": [
        "predictor = ktrain.get_predictor(learner.model, preproc)"
      ],
      "execution_count": 0,
      "outputs": []
    },
    {
      "cell_type": "code",
      "metadata": {
        "id": "M2kZBIfzOTZv",
        "colab_type": "code",
        "outputId": "052ef96c-f084-45e9-e023-f1f8ca1c49bd",
        "colab": {
          "base_uri": "https://localhost:8080/",
          "height": 17
        }
      },
      "source": [
        "predictions_bert = predictor.predict(x_test.tolist())"
      ],
      "execution_count": 0,
      "outputs": [
        {
          "output_type": "display_data",
          "data": {
            "text/html": [
              ""
            ],
            "text/plain": [
              "<IPython.core.display.HTML object>"
            ]
          },
          "metadata": {
            "tags": []
          }
        }
      ]
    },
    {
      "cell_type": "code",
      "metadata": {
        "id": "O_ASGKSt66dG",
        "colab_type": "code",
        "outputId": "b98efcf4-a7b1-4653-c7a9-8ce84705a38d",
        "colab": {
          "base_uri": "https://localhost:8080/",
          "height": 33
        }
      },
      "source": [
        "predictions_bert = list(map(int, predictions_bert))\n",
        "len(predictions_bert)"
      ],
      "execution_count": 0,
      "outputs": [
        {
          "output_type": "execute_result",
          "data": {
            "text/plain": [
              "213"
            ]
          },
          "metadata": {
            "tags": []
          },
          "execution_count": 41
        }
      ]
    },
    {
      "cell_type": "code",
      "metadata": {
        "id": "hfHN_ynCREfE",
        "colab_type": "code",
        "outputId": "714ddaed-5429-4aad-843a-ddc3d160d2f2",
        "colab": {
          "base_uri": "https://localhost:8080/",
          "height": 33
        }
      },
      "source": [
        "bert_f1 = f1_score(y_test, predictions_bert, average='macro')\n",
        "\n",
        "print(\"F1 Score for BERT:\", bert_f1)"
      ],
      "execution_count": 0,
      "outputs": [
        {
          "output_type": "stream",
          "text": [
            "F1 Score for BERT: 0.7511517689849003\n"
          ],
          "name": "stdout"
        }
      ]
    },
    {
      "cell_type": "markdown",
      "metadata": {
        "id": "NZvJcQJcJt53",
        "colab_type": "text"
      },
      "source": [
        "# Ensemble RFC"
      ]
    },
    {
      "cell_type": "code",
      "metadata": {
        "id": "avaaKN4lfEOe",
        "colab_type": "code",
        "colab": {}
      },
      "source": [
        "df_ensemble = pd.DataFrame(predictions_gru, columns=[\"predictions_gru\"])\n",
        "df_ensemble['predictions_vader'] = predictions_vader\n",
        "df_ensemble['predictions_bert'] = predictions_bert"
      ],
      "execution_count": 0,
      "outputs": []
    },
    {
      "cell_type": "code",
      "metadata": {
        "id": "TZO9wVtJgG2a",
        "colab_type": "code",
        "outputId": "1cae2c76-93d1-47cc-e021-45cc6bdd0e3d",
        "colab": {
          "base_uri": "https://localhost:8080/",
          "height": 390
        }
      },
      "source": [
        "df_ensemble"
      ],
      "execution_count": 0,
      "outputs": [
        {
          "output_type": "execute_result",
          "data": {
            "text/html": [
              "<div>\n",
              "<style scoped>\n",
              "    .dataframe tbody tr th:only-of-type {\n",
              "        vertical-align: middle;\n",
              "    }\n",
              "\n",
              "    .dataframe tbody tr th {\n",
              "        vertical-align: top;\n",
              "    }\n",
              "\n",
              "    .dataframe thead th {\n",
              "        text-align: right;\n",
              "    }\n",
              "</style>\n",
              "<table border=\"1\" class=\"dataframe\">\n",
              "  <thead>\n",
              "    <tr style=\"text-align: right;\">\n",
              "      <th></th>\n",
              "      <th>predictions_gru</th>\n",
              "      <th>predictions_vader</th>\n",
              "      <th>predictions_bert</th>\n",
              "    </tr>\n",
              "  </thead>\n",
              "  <tbody>\n",
              "    <tr>\n",
              "      <th>0</th>\n",
              "      <td>0</td>\n",
              "      <td>1</td>\n",
              "      <td>1</td>\n",
              "    </tr>\n",
              "    <tr>\n",
              "      <th>1</th>\n",
              "      <td>0</td>\n",
              "      <td>1</td>\n",
              "      <td>1</td>\n",
              "    </tr>\n",
              "    <tr>\n",
              "      <th>2</th>\n",
              "      <td>0</td>\n",
              "      <td>0</td>\n",
              "      <td>1</td>\n",
              "    </tr>\n",
              "    <tr>\n",
              "      <th>3</th>\n",
              "      <td>0</td>\n",
              "      <td>1</td>\n",
              "      <td>0</td>\n",
              "    </tr>\n",
              "    <tr>\n",
              "      <th>4</th>\n",
              "      <td>0</td>\n",
              "      <td>1</td>\n",
              "      <td>0</td>\n",
              "    </tr>\n",
              "    <tr>\n",
              "      <th>...</th>\n",
              "      <td>...</td>\n",
              "      <td>...</td>\n",
              "      <td>...</td>\n",
              "    </tr>\n",
              "    <tr>\n",
              "      <th>208</th>\n",
              "      <td>0</td>\n",
              "      <td>0</td>\n",
              "      <td>1</td>\n",
              "    </tr>\n",
              "    <tr>\n",
              "      <th>209</th>\n",
              "      <td>0</td>\n",
              "      <td>1</td>\n",
              "      <td>1</td>\n",
              "    </tr>\n",
              "    <tr>\n",
              "      <th>210</th>\n",
              "      <td>1</td>\n",
              "      <td>1</td>\n",
              "      <td>1</td>\n",
              "    </tr>\n",
              "    <tr>\n",
              "      <th>211</th>\n",
              "      <td>0</td>\n",
              "      <td>1</td>\n",
              "      <td>0</td>\n",
              "    </tr>\n",
              "    <tr>\n",
              "      <th>212</th>\n",
              "      <td>1</td>\n",
              "      <td>0</td>\n",
              "      <td>0</td>\n",
              "    </tr>\n",
              "  </tbody>\n",
              "</table>\n",
              "<p>213 rows × 3 columns</p>\n",
              "</div>"
            ],
            "text/plain": [
              "     predictions_gru  predictions_vader  predictions_bert\n",
              "0                  0                  1                 1\n",
              "1                  0                  1                 1\n",
              "2                  0                  0                 1\n",
              "3                  0                  1                 0\n",
              "4                  0                  1                 0\n",
              "..               ...                ...               ...\n",
              "208                0                  0                 1\n",
              "209                0                  1                 1\n",
              "210                1                  1                 1\n",
              "211                0                  1                 0\n",
              "212                1                  0                 0\n",
              "\n",
              "[213 rows x 3 columns]"
            ]
          },
          "metadata": {
            "tags": []
          },
          "execution_count": 44
        }
      ]
    },
    {
      "cell_type": "code",
      "metadata": {
        "id": "gqcS8Y8pgWZF",
        "colab_type": "code",
        "colab": {}
      },
      "source": [
        "y_test = list(map(int, y_test))"
      ],
      "execution_count": 0,
      "outputs": []
    },
    {
      "cell_type": "code",
      "metadata": {
        "id": "ffd19QlPKHWT",
        "colab_type": "code",
        "colab": {}
      },
      "source": [
        "from sklearn.ensemble import RandomForestClassifier\n",
        "clf = RandomForestClassifier(n_estimators=10, random_state=0)\n",
        "clf = clf.fit(df_ensemble, y_test)"
      ],
      "execution_count": 0,
      "outputs": []
    },
    {
      "cell_type": "code",
      "metadata": {
        "id": "NFuaYR4qhlsb",
        "colab_type": "code",
        "outputId": "b8f88e71-95b4-4b10-dfa3-8c446e62b8cb",
        "colab": {
          "base_uri": "https://localhost:8080/",
          "height": 33
        }
      },
      "source": [
        "clf.score(df_ensemble, y_test)"
      ],
      "execution_count": 0,
      "outputs": [
        {
          "output_type": "execute_result",
          "data": {
            "text/plain": [
              "0.7511737089201878"
            ]
          },
          "metadata": {
            "tags": []
          },
          "execution_count": 47
        }
      ]
    },
    {
      "cell_type": "markdown",
      "metadata": {
        "id": "JM33AcMskVbE",
        "colab_type": "text"
      },
      "source": [
        "# Text Processing for Unlabelled Quotes"
      ]
    },
    {
      "cell_type": "code",
      "metadata": {
        "id": "VZACGMUq8LYs",
        "colab_type": "code",
        "outputId": "de76cfbe-27fc-4f3a-d652-14147a291934",
        "colab": {
          "base_uri": "https://localhost:8080/",
          "height": 390
        }
      },
      "source": [
        "df_auto = df.iloc[1061:,]\n",
        "df_auto = df_auto[['id','sentiments','quote']]\n",
        "df_auto"
      ],
      "execution_count": 0,
      "outputs": [
        {
          "output_type": "execute_result",
          "data": {
            "text/html": [
              "<div>\n",
              "<style scoped>\n",
              "    .dataframe tbody tr th:only-of-type {\n",
              "        vertical-align: middle;\n",
              "    }\n",
              "\n",
              "    .dataframe tbody tr th {\n",
              "        vertical-align: top;\n",
              "    }\n",
              "\n",
              "    .dataframe thead th {\n",
              "        text-align: right;\n",
              "    }\n",
              "</style>\n",
              "<table border=\"1\" class=\"dataframe\">\n",
              "  <thead>\n",
              "    <tr style=\"text-align: right;\">\n",
              "      <th></th>\n",
              "      <th>id</th>\n",
              "      <th>sentiments</th>\n",
              "      <th>quote</th>\n",
              "    </tr>\n",
              "  </thead>\n",
              "  <tbody>\n",
              "    <tr>\n",
              "      <th>1061</th>\n",
              "      <td>1061</td>\n",
              "      <td>NaN</td>\n",
              "      <td>There are no facts, only interpretations.</td>\n",
              "    </tr>\n",
              "    <tr>\n",
              "      <th>1062</th>\n",
              "      <td>1062</td>\n",
              "      <td>NaN</td>\n",
              "      <td>He's a wallflower. You see things. You keep qu...</td>\n",
              "    </tr>\n",
              "    <tr>\n",
              "      <th>1063</th>\n",
              "      <td>1063</td>\n",
              "      <td>NaN</td>\n",
              "      <td>Well, now</td>\n",
              "    </tr>\n",
              "    <tr>\n",
              "      <th>1064</th>\n",
              "      <td>1064</td>\n",
              "      <td>NaN</td>\n",
              "      <td>How vain it is to sit down to write when you h...</td>\n",
              "    </tr>\n",
              "    <tr>\n",
              "      <th>1065</th>\n",
              "      <td>1065</td>\n",
              "      <td>NaN</td>\n",
              "      <td>What Is Love? I have met in the streets a very...</td>\n",
              "    </tr>\n",
              "    <tr>\n",
              "      <th>...</th>\n",
              "      <td>...</td>\n",
              "      <td>...</td>\n",
              "      <td>...</td>\n",
              "    </tr>\n",
              "    <tr>\n",
              "      <th>10567</th>\n",
              "      <td>10567</td>\n",
              "      <td>NaN</td>\n",
              "      <td>No one messes around with a nerds computer and...</td>\n",
              "    </tr>\n",
              "    <tr>\n",
              "      <th>10568</th>\n",
              "      <td>10568</td>\n",
              "      <td>NaN</td>\n",
              "      <td>Come to think of it, she did not speak a word....</td>\n",
              "    </tr>\n",
              "    <tr>\n",
              "      <th>10569</th>\n",
              "      <td>10569</td>\n",
              "      <td>NaN</td>\n",
              "      <td>Yeah, I get it; you're a vampire, she said. Cr...</td>\n",
              "    </tr>\n",
              "    <tr>\n",
              "      <th>10570</th>\n",
              "      <td>10570</td>\n",
              "      <td>NaN</td>\n",
              "      <td>Whew! You two are blowing hotter air than a to...</td>\n",
              "    </tr>\n",
              "    <tr>\n",
              "      <th>10571</th>\n",
              "      <td>10571</td>\n",
              "      <td>NaN</td>\n",
              "      <td>Don't you see Blaynie. Mitch put his arm aroun...</td>\n",
              "    </tr>\n",
              "  </tbody>\n",
              "</table>\n",
              "<p>9511 rows × 3 columns</p>\n",
              "</div>"
            ],
            "text/plain": [
              "          id  sentiments                                              quote\n",
              "1061    1061         NaN          There are no facts, only interpretations.\n",
              "1062    1062         NaN  He's a wallflower. You see things. You keep qu...\n",
              "1063    1063         NaN                                          Well, now\n",
              "1064    1064         NaN  How vain it is to sit down to write when you h...\n",
              "1065    1065         NaN  What Is Love? I have met in the streets a very...\n",
              "...      ...         ...                                                ...\n",
              "10567  10567         NaN  No one messes around with a nerds computer and...\n",
              "10568  10568         NaN  Come to think of it, she did not speak a word....\n",
              "10569  10569         NaN  Yeah, I get it; you're a vampire, she said. Cr...\n",
              "10570  10570         NaN  Whew! You two are blowing hotter air than a to...\n",
              "10571  10571         NaN  Don't you see Blaynie. Mitch put his arm aroun...\n",
              "\n",
              "[9511 rows x 3 columns]"
            ]
          },
          "metadata": {
            "tags": []
          },
          "execution_count": 55
        }
      ]
    },
    {
      "cell_type": "code",
      "metadata": {
        "id": "srfAb9vwbE0U",
        "colab_type": "code",
        "outputId": "a744acf3-d73f-4ed9-dcef-c15d7a04ce83",
        "colab": {
          "base_uri": "https://localhost:8080/",
          "height": 423
        }
      },
      "source": [
        "stemmer = WordNetLemmatizer()\n",
        "nltk.download('wordnet')\n",
        "\n",
        "processed_quotes = []\n",
        "\n",
        "for sen in df_auto[\"quote\"]:\n",
        "    # Remove all the special characters\n",
        "    document = re.sub(r'\\W', ' ', str(sen))\n",
        "\n",
        "    # remove all single characters\n",
        "    document = re.sub(r'\\s+[a-zA-Z]\\s+', ' ', document)\n",
        "    \n",
        "    # Remove single characters from the start\n",
        "    document = re.sub(r'\\^[a-zA-Z]\\s+', ' ', document) \n",
        "    \n",
        "    # Substituting multiple spaces with single space\n",
        "    document = re.sub(r'\\s+', ' ', document, flags=re.I)\n",
        "    \n",
        "    # Removing prefixed 'b'\n",
        "    document = re.sub(r'^b\\s+', '', document)\n",
        "    \n",
        "    # Converting to Lowercase\n",
        "    document = document.lower()\n",
        "    \n",
        "    # Lemmatization\n",
        "    document = document.split()\n",
        "\n",
        "    document = [stemmer.lemmatize(word) for word in document]\n",
        "    document = ' '.join(document)\n",
        "    \n",
        "    processed_quotes.append(document)\n",
        "    \n",
        "df_auto[\"processed_quotes\"] = processed_quotes\n",
        "df_auto"
      ],
      "execution_count": 0,
      "outputs": [
        {
          "output_type": "stream",
          "text": [
            "[nltk_data] Downloading package wordnet to /root/nltk_data...\n",
            "[nltk_data]   Package wordnet is already up-to-date!\n"
          ],
          "name": "stdout"
        },
        {
          "output_type": "execute_result",
          "data": {
            "text/html": [
              "<div>\n",
              "<style scoped>\n",
              "    .dataframe tbody tr th:only-of-type {\n",
              "        vertical-align: middle;\n",
              "    }\n",
              "\n",
              "    .dataframe tbody tr th {\n",
              "        vertical-align: top;\n",
              "    }\n",
              "\n",
              "    .dataframe thead th {\n",
              "        text-align: right;\n",
              "    }\n",
              "</style>\n",
              "<table border=\"1\" class=\"dataframe\">\n",
              "  <thead>\n",
              "    <tr style=\"text-align: right;\">\n",
              "      <th></th>\n",
              "      <th>id</th>\n",
              "      <th>sentiments</th>\n",
              "      <th>quote</th>\n",
              "      <th>processed_quotes</th>\n",
              "    </tr>\n",
              "  </thead>\n",
              "  <tbody>\n",
              "    <tr>\n",
              "      <th>1061</th>\n",
              "      <td>1061</td>\n",
              "      <td>NaN</td>\n",
              "      <td>There are no facts, only interpretations.</td>\n",
              "      <td>there are no fact only interpretation</td>\n",
              "    </tr>\n",
              "    <tr>\n",
              "      <th>1062</th>\n",
              "      <td>1062</td>\n",
              "      <td>NaN</td>\n",
              "      <td>He's a wallflower. You see things. You keep qu...</td>\n",
              "      <td>he a wallflower you see thing you keep quiet a...</td>\n",
              "    </tr>\n",
              "    <tr>\n",
              "      <th>1063</th>\n",
              "      <td>1063</td>\n",
              "      <td>NaN</td>\n",
              "      <td>Well, now</td>\n",
              "      <td>well now</td>\n",
              "    </tr>\n",
              "    <tr>\n",
              "      <th>1064</th>\n",
              "      <td>1064</td>\n",
              "      <td>NaN</td>\n",
              "      <td>How vain it is to sit down to write when you h...</td>\n",
              "      <td>how vain it is to sit down to write when you h...</td>\n",
              "    </tr>\n",
              "    <tr>\n",
              "      <th>1065</th>\n",
              "      <td>1065</td>\n",
              "      <td>NaN</td>\n",
              "      <td>What Is Love? I have met in the streets a very...</td>\n",
              "      <td>what is love have met in the street very poor ...</td>\n",
              "    </tr>\n",
              "    <tr>\n",
              "      <th>...</th>\n",
              "      <td>...</td>\n",
              "      <td>...</td>\n",
              "      <td>...</td>\n",
              "      <td>...</td>\n",
              "    </tr>\n",
              "    <tr>\n",
              "      <th>10567</th>\n",
              "      <td>10567</td>\n",
              "      <td>NaN</td>\n",
              "      <td>No one messes around with a nerds computer and...</td>\n",
              "      <td>no one mess around with nerd computer and esca...</td>\n",
              "    </tr>\n",
              "    <tr>\n",
              "      <th>10568</th>\n",
              "      <td>10568</td>\n",
              "      <td>NaN</td>\n",
              "      <td>Come to think of it, she did not speak a word....</td>\n",
              "      <td>come to think of it she did not speak word yet...</td>\n",
              "    </tr>\n",
              "    <tr>\n",
              "      <th>10569</th>\n",
              "      <td>10569</td>\n",
              "      <td>NaN</td>\n",
              "      <td>Yeah, I get it; you're a vampire, she said. Cr...</td>\n",
              "      <td>yeah get it you re vampire she said creepy and...</td>\n",
              "    </tr>\n",
              "    <tr>\n",
              "      <th>10570</th>\n",
              "      <td>10570</td>\n",
              "      <td>NaN</td>\n",
              "      <td>Whew! You two are blowing hotter air than a to...</td>\n",
              "      <td>whew you two are blowing hotter air than torna...</td>\n",
              "    </tr>\n",
              "    <tr>\n",
              "      <th>10571</th>\n",
              "      <td>10571</td>\n",
              "      <td>NaN</td>\n",
              "      <td>Don't you see Blaynie. Mitch put his arm aroun...</td>\n",
              "      <td>don you see blaynie mitch put his arm around h...</td>\n",
              "    </tr>\n",
              "  </tbody>\n",
              "</table>\n",
              "<p>9511 rows × 4 columns</p>\n",
              "</div>"
            ],
            "text/plain": [
              "          id  ...                                   processed_quotes\n",
              "1061    1061  ...              there are no fact only interpretation\n",
              "1062    1062  ...  he a wallflower you see thing you keep quiet a...\n",
              "1063    1063  ...                                           well now\n",
              "1064    1064  ...  how vain it is to sit down to write when you h...\n",
              "1065    1065  ...  what is love have met in the street very poor ...\n",
              "...      ...  ...                                                ...\n",
              "10567  10567  ...  no one mess around with nerd computer and esca...\n",
              "10568  10568  ...  come to think of it she did not speak word yet...\n",
              "10569  10569  ...  yeah get it you re vampire she said creepy and...\n",
              "10570  10570  ...  whew you two are blowing hotter air than torna...\n",
              "10571  10571  ...  don you see blaynie mitch put his arm around h...\n",
              "\n",
              "[9511 rows x 4 columns]"
            ]
          },
          "metadata": {
            "tags": []
          },
          "execution_count": 57
        }
      ]
    },
    {
      "cell_type": "code",
      "metadata": {
        "id": "Id93AphTcUiA",
        "colab_type": "code",
        "outputId": "89bf1675-a8ba-4944-cd3a-6f5d93de269c",
        "colab": {
          "base_uri": "https://localhost:8080/",
          "height": 214
        }
      },
      "source": [
        "auto_x = df_auto.iloc[:,3]\n",
        "auto_y = df_auto.iloc[:,1]\n",
        "auto_x"
      ],
      "execution_count": 0,
      "outputs": [
        {
          "output_type": "execute_result",
          "data": {
            "text/plain": [
              "1061                 there are no fact only interpretation\n",
              "1062     he a wallflower you see thing you keep quiet a...\n",
              "1063                                              well now\n",
              "1064     how vain it is to sit down to write when you h...\n",
              "1065     what is love have met in the street very poor ...\n",
              "                               ...                        \n",
              "10567    no one mess around with nerd computer and esca...\n",
              "10568    come to think of it she did not speak word yet...\n",
              "10569    yeah get it you re vampire she said creepy and...\n",
              "10570    whew you two are blowing hotter air than torna...\n",
              "10571    don you see blaynie mitch put his arm around h...\n",
              "Name: processed_quotes, Length: 9511, dtype: object"
            ]
          },
          "metadata": {
            "tags": []
          },
          "execution_count": 67
        }
      ]
    },
    {
      "cell_type": "code",
      "metadata": {
        "id": "3uHwl7I7c5gR",
        "colab_type": "code",
        "outputId": "94c0de5f-32ad-4fb7-ae92-8155be31dc40",
        "colab": {
          "base_uri": "https://localhost:8080/",
          "height": 214
        }
      },
      "source": [
        "auto_y"
      ],
      "execution_count": 0,
      "outputs": [
        {
          "output_type": "execute_result",
          "data": {
            "text/plain": [
              "1061    NaN\n",
              "1062    NaN\n",
              "1063    NaN\n",
              "1064    NaN\n",
              "1065    NaN\n",
              "         ..\n",
              "10567   NaN\n",
              "10568   NaN\n",
              "10569   NaN\n",
              "10570   NaN\n",
              "10571   NaN\n",
              "Name: sentiments, Length: 9511, dtype: float64"
            ]
          },
          "metadata": {
            "tags": []
          },
          "execution_count": 69
        }
      ]
    },
    {
      "cell_type": "code",
      "metadata": {
        "id": "dbGP3dwJeVA7",
        "colab_type": "code",
        "outputId": "6f3c51ba-790f-4401-b63f-7c20ad18c3d5",
        "colab": {
          "base_uri": "https://localhost:8080/",
          "height": 132
        }
      },
      "source": [
        "### Need to use back the same initial configurations as the model\n",
        "\n",
        "num_words = 10000\n",
        "tokenizer = Tokenizer(num_words=num_words)\n",
        "# print(tokenizer)\n",
        "\n",
        "auto_x_pad = pad_sequences(auto_x_tokens, maxlen=77,\n",
        "                            padding='pre', truncating='pre')\n",
        "auto_x_pad"
      ],
      "execution_count": 0,
      "outputs": [
        {
          "output_type": "execute_result",
          "data": {
            "text/plain": [
              "array([[   0,    0,    0, ...,  271,   52, 5040],\n",
              "       [   0,    0,    0, ...,    4,    2,  244],\n",
              "       [   0,    0,    0, ...,    0,  157,  112],\n",
              "       ...,\n",
              "       [   0,    0,    0, ...,  140,  719, 1122],\n",
              "       [   0,    0,    0, ..., 5104,    9, 4835],\n",
              "       [   0,    0,    0, ...,    8,   54,  247]], dtype=int32)"
            ]
          },
          "metadata": {
            "tags": []
          },
          "execution_count": 90
        }
      ]
    },
    {
      "cell_type": "markdown",
      "metadata": {
        "id": "OdwHD0NSjwUm",
        "colab_type": "text"
      },
      "source": [
        "# Auto Prediction using GRU"
      ]
    },
    {
      "cell_type": "code",
      "metadata": {
        "id": "smBR-SENjsx6",
        "colab_type": "code",
        "outputId": "eaee4a64-da8a-42fa-d1d1-a480a4a4d81a",
        "colab": {
          "base_uri": "https://localhost:8080/",
          "height": 33
        }
      },
      "source": [
        "auto_predictions_gru = model.predict_classes(auto_x_pad)\n",
        "len(auto_predictions_gru)"
      ],
      "execution_count": 0,
      "outputs": [
        {
          "output_type": "execute_result",
          "data": {
            "text/plain": [
              "9511"
            ]
          },
          "metadata": {
            "tags": []
          },
          "execution_count": 98
        }
      ]
    },
    {
      "cell_type": "markdown",
      "metadata": {
        "id": "6NJY5FxUjctB",
        "colab_type": "text"
      },
      "source": [
        "# Auto Prediction using Vader\n"
      ]
    },
    {
      "cell_type": "code",
      "metadata": {
        "id": "baRmRy6wja0z",
        "colab_type": "code",
        "outputId": "58b4bcfc-b037-4853-e680-303e9e186ad5",
        "colab": {
          "base_uri": "https://localhost:8080/",
          "height": 33
        }
      },
      "source": [
        "auto_predictions_vader = [vader_polarity(text) for text in auto_x]\n",
        "auto_predictions_vader = np.array(auto_predictions_vader).reshape(-1,1)\n",
        "len(auto_predictions_vader)"
      ],
      "execution_count": 0,
      "outputs": [
        {
          "output_type": "execute_result",
          "data": {
            "text/plain": [
              "9511"
            ]
          },
          "metadata": {
            "tags": []
          },
          "execution_count": 99
        }
      ]
    },
    {
      "cell_type": "markdown",
      "metadata": {
        "id": "xmZ_jSBZkv_5",
        "colab_type": "text"
      },
      "source": [
        "# Auto Prediction using BERT"
      ]
    },
    {
      "cell_type": "code",
      "metadata": {
        "id": "r-XcVDRWjawS",
        "colab_type": "code",
        "outputId": "9662d83d-a8ce-497f-9c8e-c65e486830dd",
        "colab": {
          "base_uri": "https://localhost:8080/",
          "height": 33
        }
      },
      "source": [
        "auto_predictions_bert = predictor.predict(auto_x.tolist())\n",
        "auto_predictions_bert = list(map(int, auto_predictions_bert))\n",
        "len(auto_predictions_bert)"
      ],
      "execution_count": 0,
      "outputs": [
        {
          "output_type": "display_data",
          "data": {
            "text/html": [
              ""
            ],
            "text/plain": [
              "<IPython.core.display.HTML object>"
            ]
          },
          "metadata": {
            "tags": []
          }
        },
        {
          "output_type": "execute_result",
          "data": {
            "text/plain": [
              "9511"
            ]
          },
          "metadata": {
            "tags": []
          },
          "execution_count": 100
        }
      ]
    },
    {
      "cell_type": "code",
      "metadata": {
        "id": "j1uC18Cgjaq8",
        "colab_type": "code",
        "colab": {}
      },
      "source": [
        ""
      ],
      "execution_count": 0,
      "outputs": []
    },
    {
      "cell_type": "markdown",
      "metadata": {
        "id": "TBIQBKvGk8w2",
        "colab_type": "text"
      },
      "source": [
        "# Ensemble Auto Prediction using RFC"
      ]
    },
    {
      "cell_type": "code",
      "metadata": {
        "id": "SGYlNBo7janI",
        "colab_type": "code",
        "outputId": "61d98c46-6db9-4251-eb5b-88bb17422f32",
        "colab": {
          "base_uri": "https://localhost:8080/",
          "height": 390
        }
      },
      "source": [
        "auto_df_ensemble = pd.DataFrame(auto_predictions_gru, columns=['predictions_gru'])\n",
        "auto_df_ensemble['predictions_vader'] = auto_predictions_vader\n",
        "auto_df_ensemble['predictions_bert'] = auto_predictions_bert\n",
        "auto_df_ensemble"
      ],
      "execution_count": 0,
      "outputs": [
        {
          "output_type": "execute_result",
          "data": {
            "text/html": [
              "<div>\n",
              "<style scoped>\n",
              "    .dataframe tbody tr th:only-of-type {\n",
              "        vertical-align: middle;\n",
              "    }\n",
              "\n",
              "    .dataframe tbody tr th {\n",
              "        vertical-align: top;\n",
              "    }\n",
              "\n",
              "    .dataframe thead th {\n",
              "        text-align: right;\n",
              "    }\n",
              "</style>\n",
              "<table border=\"1\" class=\"dataframe\">\n",
              "  <thead>\n",
              "    <tr style=\"text-align: right;\">\n",
              "      <th></th>\n",
              "      <th>predictions_gru</th>\n",
              "      <th>predictions_vader</th>\n",
              "      <th>predictions_bert</th>\n",
              "    </tr>\n",
              "  </thead>\n",
              "  <tbody>\n",
              "    <tr>\n",
              "      <th>0</th>\n",
              "      <td>1</td>\n",
              "      <td>0</td>\n",
              "      <td>0</td>\n",
              "    </tr>\n",
              "    <tr>\n",
              "      <th>1</th>\n",
              "      <td>0</td>\n",
              "      <td>0</td>\n",
              "      <td>1</td>\n",
              "    </tr>\n",
              "    <tr>\n",
              "      <th>2</th>\n",
              "      <td>1</td>\n",
              "      <td>1</td>\n",
              "      <td>1</td>\n",
              "    </tr>\n",
              "    <tr>\n",
              "      <th>3</th>\n",
              "      <td>0</td>\n",
              "      <td>0</td>\n",
              "      <td>0</td>\n",
              "    </tr>\n",
              "    <tr>\n",
              "      <th>4</th>\n",
              "      <td>0</td>\n",
              "      <td>1</td>\n",
              "      <td>0</td>\n",
              "    </tr>\n",
              "    <tr>\n",
              "      <th>...</th>\n",
              "      <td>...</td>\n",
              "      <td>...</td>\n",
              "      <td>...</td>\n",
              "    </tr>\n",
              "    <tr>\n",
              "      <th>9506</th>\n",
              "      <td>1</td>\n",
              "      <td>0</td>\n",
              "      <td>0</td>\n",
              "    </tr>\n",
              "    <tr>\n",
              "      <th>9507</th>\n",
              "      <td>1</td>\n",
              "      <td>1</td>\n",
              "      <td>0</td>\n",
              "    </tr>\n",
              "    <tr>\n",
              "      <th>9508</th>\n",
              "      <td>0</td>\n",
              "      <td>1</td>\n",
              "      <td>0</td>\n",
              "    </tr>\n",
              "    <tr>\n",
              "      <th>9509</th>\n",
              "      <td>0</td>\n",
              "      <td>0</td>\n",
              "      <td>0</td>\n",
              "    </tr>\n",
              "    <tr>\n",
              "      <th>9510</th>\n",
              "      <td>0</td>\n",
              "      <td>1</td>\n",
              "      <td>0</td>\n",
              "    </tr>\n",
              "  </tbody>\n",
              "</table>\n",
              "<p>9511 rows × 3 columns</p>\n",
              "</div>"
            ],
            "text/plain": [
              "      predictions_gru  predictions_vader  predictions_bert\n",
              "0                   1                  0                 0\n",
              "1                   0                  0                 1\n",
              "2                   1                  1                 1\n",
              "3                   0                  0                 0\n",
              "4                   0                  1                 0\n",
              "...               ...                ...               ...\n",
              "9506                1                  0                 0\n",
              "9507                1                  1                 0\n",
              "9508                0                  1                 0\n",
              "9509                0                  0                 0\n",
              "9510                0                  1                 0\n",
              "\n",
              "[9511 rows x 3 columns]"
            ]
          },
          "metadata": {
            "tags": []
          },
          "execution_count": 102
        }
      ]
    },
    {
      "cell_type": "code",
      "metadata": {
        "id": "ul8JNIXMjai3",
        "colab_type": "code",
        "outputId": "06481261-ae62-4dba-ce0b-50bd9a2a3b54",
        "colab": {
          "base_uri": "https://localhost:8080/",
          "height": 33
        }
      },
      "source": [
        "auto_ensemble= clf.predict(auto_df_ensemble)\n",
        "len(auto_ensemble)"
      ],
      "execution_count": 0,
      "outputs": [
        {
          "output_type": "execute_result",
          "data": {
            "text/plain": [
              "9511"
            ]
          },
          "metadata": {
            "tags": []
          },
          "execution_count": 113
        }
      ]
    },
    {
      "cell_type": "code",
      "metadata": {
        "id": "n8U0C8Bif4CL",
        "colab_type": "code",
        "outputId": "c4a4ca87-a231-49dd-d2eb-3d386297ca7d",
        "colab": {
          "base_uri": "https://localhost:8080/",
          "height": 390
        }
      },
      "source": [
        "df_auto['sentiments'] = auto_ensemble\n",
        "df_auto"
      ],
      "execution_count": 0,
      "outputs": [
        {
          "output_type": "execute_result",
          "data": {
            "text/html": [
              "<div>\n",
              "<style scoped>\n",
              "    .dataframe tbody tr th:only-of-type {\n",
              "        vertical-align: middle;\n",
              "    }\n",
              "\n",
              "    .dataframe tbody tr th {\n",
              "        vertical-align: top;\n",
              "    }\n",
              "\n",
              "    .dataframe thead th {\n",
              "        text-align: right;\n",
              "    }\n",
              "</style>\n",
              "<table border=\"1\" class=\"dataframe\">\n",
              "  <thead>\n",
              "    <tr style=\"text-align: right;\">\n",
              "      <th></th>\n",
              "      <th>id</th>\n",
              "      <th>sentiments</th>\n",
              "      <th>quote</th>\n",
              "      <th>processed_quotes</th>\n",
              "    </tr>\n",
              "  </thead>\n",
              "  <tbody>\n",
              "    <tr>\n",
              "      <th>1061</th>\n",
              "      <td>1061</td>\n",
              "      <td>0</td>\n",
              "      <td>There are no facts, only interpretations.</td>\n",
              "      <td>there are no fact only interpretation</td>\n",
              "    </tr>\n",
              "    <tr>\n",
              "      <th>1062</th>\n",
              "      <td>1062</td>\n",
              "      <td>1</td>\n",
              "      <td>He's a wallflower. You see things. You keep qu...</td>\n",
              "      <td>he a wallflower you see thing you keep quiet a...</td>\n",
              "    </tr>\n",
              "    <tr>\n",
              "      <th>1063</th>\n",
              "      <td>1063</td>\n",
              "      <td>1</td>\n",
              "      <td>Well, now</td>\n",
              "      <td>well now</td>\n",
              "    </tr>\n",
              "    <tr>\n",
              "      <th>1064</th>\n",
              "      <td>1064</td>\n",
              "      <td>0</td>\n",
              "      <td>How vain it is to sit down to write when you h...</td>\n",
              "      <td>how vain it is to sit down to write when you h...</td>\n",
              "    </tr>\n",
              "    <tr>\n",
              "      <th>1065</th>\n",
              "      <td>1065</td>\n",
              "      <td>0</td>\n",
              "      <td>What Is Love? I have met in the streets a very...</td>\n",
              "      <td>what is love have met in the street very poor ...</td>\n",
              "    </tr>\n",
              "    <tr>\n",
              "      <th>...</th>\n",
              "      <td>...</td>\n",
              "      <td>...</td>\n",
              "      <td>...</td>\n",
              "      <td>...</td>\n",
              "    </tr>\n",
              "    <tr>\n",
              "      <th>10567</th>\n",
              "      <td>10567</td>\n",
              "      <td>0</td>\n",
              "      <td>No one messes around with a nerds computer and...</td>\n",
              "      <td>no one mess around with nerd computer and esca...</td>\n",
              "    </tr>\n",
              "    <tr>\n",
              "      <th>10568</th>\n",
              "      <td>10568</td>\n",
              "      <td>0</td>\n",
              "      <td>Come to think of it, she did not speak a word....</td>\n",
              "      <td>come to think of it she did not speak word yet...</td>\n",
              "    </tr>\n",
              "    <tr>\n",
              "      <th>10569</th>\n",
              "      <td>10569</td>\n",
              "      <td>0</td>\n",
              "      <td>Yeah, I get it; you're a vampire, she said. Cr...</td>\n",
              "      <td>yeah get it you re vampire she said creepy and...</td>\n",
              "    </tr>\n",
              "    <tr>\n",
              "      <th>10570</th>\n",
              "      <td>10570</td>\n",
              "      <td>0</td>\n",
              "      <td>Whew! You two are blowing hotter air than a to...</td>\n",
              "      <td>whew you two are blowing hotter air than torna...</td>\n",
              "    </tr>\n",
              "    <tr>\n",
              "      <th>10571</th>\n",
              "      <td>10571</td>\n",
              "      <td>0</td>\n",
              "      <td>Don't you see Blaynie. Mitch put his arm aroun...</td>\n",
              "      <td>don you see blaynie mitch put his arm around h...</td>\n",
              "    </tr>\n",
              "  </tbody>\n",
              "</table>\n",
              "<p>9511 rows × 4 columns</p>\n",
              "</div>"
            ],
            "text/plain": [
              "          id  ...                                   processed_quotes\n",
              "1061    1061  ...              there are no fact only interpretation\n",
              "1062    1062  ...  he a wallflower you see thing you keep quiet a...\n",
              "1063    1063  ...                                           well now\n",
              "1064    1064  ...  how vain it is to sit down to write when you h...\n",
              "1065    1065  ...  what is love have met in the street very poor ...\n",
              "...      ...  ...                                                ...\n",
              "10567  10567  ...  no one mess around with nerd computer and esca...\n",
              "10568  10568  ...  come to think of it she did not speak word yet...\n",
              "10569  10569  ...  yeah get it you re vampire she said creepy and...\n",
              "10570  10570  ...  whew you two are blowing hotter air than torna...\n",
              "10571  10571  ...  don you see blaynie mitch put his arm around h...\n",
              "\n",
              "[9511 rows x 4 columns]"
            ]
          },
          "metadata": {
            "tags": []
          },
          "execution_count": 114
        }
      ]
    },
    {
      "cell_type": "code",
      "metadata": {
        "id": "3CdrcsyCggby",
        "colab_type": "code",
        "colab": {}
      },
      "source": [
        "df_auto.to_csv(r'./autoclassification_results.csv',index=False)"
      ],
      "execution_count": 0,
      "outputs": []
    }
  ]
}