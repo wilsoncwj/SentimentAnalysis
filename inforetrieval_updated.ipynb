{
  "nbformat": 4,
  "nbformat_minor": 0,
  "metadata": {
    "kernelspec": {
      "display_name": "Python 3",
      "language": "python",
      "name": "python3"
    },
    "language_info": {
      "codemirror_mode": {
        "name": "ipython",
        "version": 3
      },
      "file_extension": ".py",
      "mimetype": "text/x-python",
      "name": "python",
      "nbconvert_exporter": "python",
      "pygments_lexer": "ipython3",
      "version": "3.6.9"
    },
    "colab": {
      "name": "inforetrieval.ipynb",
      "provenance": [],
      "collapsed_sections": []
    }
  },
  "cells": [
    {
      "cell_type": "code",
      "metadata": {
        "id": "9P-EGW49JBUl",
        "colab_type": "code",
        "colab": {}
      },
      "source": [
        "%matplotlib inline\n",
        "import os\n",
        "import matplotlib.pyplot as plt\n",
        "import tensorflow as tf\n",
        "import numpy as np\n",
        "import pandas as pd\n",
        "import nltk\n",
        "import re\n",
        "from scipy.spatial.distance import cdist\n",
        "from tensorflow.python.keras.models import Sequential\n",
        "from tensorflow.python.keras.layers import Dense, GRU, Embedding\n",
        "from tensorflow.python.keras.optimizers import Adam\n",
        "from tensorflow.python.keras.preprocessing.text import Tokenizer\n",
        "from tensorflow.python.keras.preprocessing.sequence import pad_sequences"
      ],
      "execution_count": 0,
      "outputs": []
    },
    {
      "cell_type": "code",
      "metadata": {
        "id": "K-ZGg6gRJBUr",
        "colab_type": "code",
        "outputId": "3366d5e3-8a91-4429-a541-fb72c56a1c89",
        "colab": {}
      },
      "source": [
        "os.getcwd()"
      ],
      "execution_count": 0,
      "outputs": [
        {
          "output_type": "execute_result",
          "data": {
            "text/plain": [
              "'/workspace/tensorflow'"
            ]
          },
          "metadata": {
            "tags": []
          },
          "execution_count": 3
        }
      ]
    },
    {
      "cell_type": "code",
      "metadata": {
        "id": "1sit3rgWJBUu",
        "colab_type": "code",
        "colab": {}
      },
      "source": [
        "df = pd.read_csv(\"./wilson_sentiments.csv\", delimiter=\",\", header=0)"
      ],
      "execution_count": 0,
      "outputs": []
    },
    {
      "cell_type": "code",
      "metadata": {
        "id": "UVQ4dFyuJBUx",
        "colab_type": "code",
        "colab": {}
      },
      "source": [
        "df = df.head(1061)"
      ],
      "execution_count": 0,
      "outputs": []
    },
    {
      "cell_type": "code",
      "metadata": {
        "id": "JBrxChlvJBUz",
        "colab_type": "code",
        "colab": {}
      },
      "source": [
        "df = df[[\"id\", \"sentiments\", \"quote\"]]"
      ],
      "execution_count": 0,
      "outputs": []
    },
    {
      "cell_type": "code",
      "metadata": {
        "id": "NV8BRLOxJBU2",
        "colab_type": "code",
        "outputId": "687acf2c-bc7c-4fe5-8dc2-e99e65cfd1d1",
        "colab": {}
      },
      "source": [
        "df"
      ],
      "execution_count": 0,
      "outputs": [
        {
          "output_type": "execute_result",
          "data": {
            "text/html": [
              "<div>\n",
              "<style scoped>\n",
              "    .dataframe tbody tr th:only-of-type {\n",
              "        vertical-align: middle;\n",
              "    }\n",
              "\n",
              "    .dataframe tbody tr th {\n",
              "        vertical-align: top;\n",
              "    }\n",
              "\n",
              "    .dataframe thead th {\n",
              "        text-align: right;\n",
              "    }\n",
              "</style>\n",
              "<table border=\"1\" class=\"dataframe\">\n",
              "  <thead>\n",
              "    <tr style=\"text-align: right;\">\n",
              "      <th></th>\n",
              "      <th>id</th>\n",
              "      <th>sentiments</th>\n",
              "      <th>quote</th>\n",
              "    </tr>\n",
              "  </thead>\n",
              "  <tbody>\n",
              "    <tr>\n",
              "      <th>0</th>\n",
              "      <td>0</td>\n",
              "      <td>0.0</td>\n",
              "      <td>I'm selfish, impatient and a little insecure. ...</td>\n",
              "    </tr>\n",
              "    <tr>\n",
              "      <th>1</th>\n",
              "      <td>1</td>\n",
              "      <td>1.0</td>\n",
              "      <td>Be yourself; everyone else is already taken.</td>\n",
              "    </tr>\n",
              "    <tr>\n",
              "      <th>2</th>\n",
              "      <td>2</td>\n",
              "      <td>0.0</td>\n",
              "      <td>Two things are infinite: the universe and huma...</td>\n",
              "    </tr>\n",
              "    <tr>\n",
              "      <th>3</th>\n",
              "      <td>3</td>\n",
              "      <td>0.0</td>\n",
              "      <td>So many books, so little time.</td>\n",
              "    </tr>\n",
              "    <tr>\n",
              "      <th>4</th>\n",
              "      <td>4</td>\n",
              "      <td>0.0</td>\n",
              "      <td>Be who you are and say what you feel, because ...</td>\n",
              "    </tr>\n",
              "    <tr>\n",
              "      <th>...</th>\n",
              "      <td>...</td>\n",
              "      <td>...</td>\n",
              "      <td>...</td>\n",
              "    </tr>\n",
              "    <tr>\n",
              "      <th>1056</th>\n",
              "      <td>1056</td>\n",
              "      <td>1.0</td>\n",
              "      <td>Remember that wherever your heart is, there yo...</td>\n",
              "    </tr>\n",
              "    <tr>\n",
              "      <th>1057</th>\n",
              "      <td>1057</td>\n",
              "      <td>1.0</td>\n",
              "      <td>History will be kind to me for I intend to wri...</td>\n",
              "    </tr>\n",
              "    <tr>\n",
              "      <th>1058</th>\n",
              "      <td>1058</td>\n",
              "      <td>1.0</td>\n",
              "      <td>Respect other people's feelings. It might mean...</td>\n",
              "    </tr>\n",
              "    <tr>\n",
              "      <th>1059</th>\n",
              "      <td>1059</td>\n",
              "      <td>1.0</td>\n",
              "      <td>Take responsibility of your own happiness, nev...</td>\n",
              "    </tr>\n",
              "    <tr>\n",
              "      <th>1060</th>\n",
              "      <td>1060</td>\n",
              "      <td>1.0</td>\n",
              "      <td>All I ever wanted was to reach out and touch a...</td>\n",
              "    </tr>\n",
              "  </tbody>\n",
              "</table>\n",
              "<p>1061 rows × 3 columns</p>\n",
              "</div>"
            ],
            "text/plain": [
              "        id  sentiments                                              quote\n",
              "0        0         0.0  I'm selfish, impatient and a little insecure. ...\n",
              "1        1         1.0       Be yourself; everyone else is already taken.\n",
              "2        2         0.0  Two things are infinite: the universe and huma...\n",
              "3        3         0.0                     So many books, so little time.\n",
              "4        4         0.0  Be who you are and say what you feel, because ...\n",
              "...    ...         ...                                                ...\n",
              "1056  1056         1.0  Remember that wherever your heart is, there yo...\n",
              "1057  1057         1.0  History will be kind to me for I intend to wri...\n",
              "1058  1058         1.0  Respect other people's feelings. It might mean...\n",
              "1059  1059         1.0  Take responsibility of your own happiness, nev...\n",
              "1060  1060         1.0  All I ever wanted was to reach out and touch a...\n",
              "\n",
              "[1061 rows x 3 columns]"
            ]
          },
          "metadata": {
            "tags": []
          },
          "execution_count": 7
        }
      ]
    },
    {
      "cell_type": "code",
      "metadata": {
        "id": "rFJEBi1NJBU5",
        "colab_type": "code",
        "outputId": "c74342c4-f6b9-4c76-9e8e-45b400886241",
        "colab": {}
      },
      "source": [
        "from nltk.stem import WordNetLemmatizer\n",
        "stemmer = WordNetLemmatizer()\n",
        "# nltk.download('wordnet')\n",
        "\n",
        "processed_quotes = []\n",
        "\n",
        "for sen in df[\"quote\"]:\n",
        "    # Remove all the special characters\n",
        "    document = re.sub(r'\\W', ' ', str(sen))\n",
        "\n",
        "    # remove all single characters\n",
        "    document = re.sub(r'\\s+[a-zA-Z]\\s+', ' ', document)\n",
        "    \n",
        "    # Remove single characters from the start\n",
        "    document = re.sub(r'\\^[a-zA-Z]\\s+', ' ', document) \n",
        "    \n",
        "    # Substituting multiple spaces with single space\n",
        "    document = re.sub(r'\\s+', ' ', document, flags=re.I)\n",
        "    \n",
        "    # Removing prefixed 'b'\n",
        "    document = re.sub(r'^b\\s+', '', document)\n",
        "    \n",
        "    # Converting to Lowercase\n",
        "    document = document.lower()\n",
        "    \n",
        "    # Lemmatization\n",
        "    document = document.split()\n",
        "\n",
        "    document = [stemmer.lemmatize(word) for word in document]\n",
        "    document = ' '.join(document)\n",
        "    \n",
        "    processed_quotes.append(document)\n",
        "    \n",
        "df[\"processed_quotes\"] = processed_quotes\n",
        "df"
      ],
      "execution_count": 0,
      "outputs": [
        {
          "output_type": "execute_result",
          "data": {
            "text/html": [
              "<div>\n",
              "<style scoped>\n",
              "    .dataframe tbody tr th:only-of-type {\n",
              "        vertical-align: middle;\n",
              "    }\n",
              "\n",
              "    .dataframe tbody tr th {\n",
              "        vertical-align: top;\n",
              "    }\n",
              "\n",
              "    .dataframe thead th {\n",
              "        text-align: right;\n",
              "    }\n",
              "</style>\n",
              "<table border=\"1\" class=\"dataframe\">\n",
              "  <thead>\n",
              "    <tr style=\"text-align: right;\">\n",
              "      <th></th>\n",
              "      <th>id</th>\n",
              "      <th>sentiments</th>\n",
              "      <th>quote</th>\n",
              "      <th>processed_quotes</th>\n",
              "    </tr>\n",
              "  </thead>\n",
              "  <tbody>\n",
              "    <tr>\n",
              "      <th>0</th>\n",
              "      <td>0</td>\n",
              "      <td>0.0</td>\n",
              "      <td>I'm selfish, impatient and a little insecure. ...</td>\n",
              "      <td>i selfish impatient and little insecure make m...</td>\n",
              "    </tr>\n",
              "    <tr>\n",
              "      <th>1</th>\n",
              "      <td>1</td>\n",
              "      <td>1.0</td>\n",
              "      <td>Be yourself; everyone else is already taken.</td>\n",
              "      <td>be yourself everyone else is already taken</td>\n",
              "    </tr>\n",
              "    <tr>\n",
              "      <th>2</th>\n",
              "      <td>2</td>\n",
              "      <td>0.0</td>\n",
              "      <td>Two things are infinite: the universe and huma...</td>\n",
              "      <td>two thing are infinite the universe and human ...</td>\n",
              "    </tr>\n",
              "    <tr>\n",
              "      <th>3</th>\n",
              "      <td>3</td>\n",
              "      <td>0.0</td>\n",
              "      <td>So many books, so little time.</td>\n",
              "      <td>so many book so little time</td>\n",
              "    </tr>\n",
              "    <tr>\n",
              "      <th>4</th>\n",
              "      <td>4</td>\n",
              "      <td>0.0</td>\n",
              "      <td>Be who you are and say what you feel, because ...</td>\n",
              "      <td>be who you are and say what you feel because t...</td>\n",
              "    </tr>\n",
              "    <tr>\n",
              "      <th>...</th>\n",
              "      <td>...</td>\n",
              "      <td>...</td>\n",
              "      <td>...</td>\n",
              "      <td>...</td>\n",
              "    </tr>\n",
              "    <tr>\n",
              "      <th>1056</th>\n",
              "      <td>1056</td>\n",
              "      <td>1.0</td>\n",
              "      <td>Remember that wherever your heart is, there yo...</td>\n",
              "      <td>remember that wherever your heart is there you...</td>\n",
              "    </tr>\n",
              "    <tr>\n",
              "      <th>1057</th>\n",
              "      <td>1057</td>\n",
              "      <td>1.0</td>\n",
              "      <td>History will be kind to me for I intend to wri...</td>\n",
              "      <td>history will be kind to me for intend to write it</td>\n",
              "    </tr>\n",
              "    <tr>\n",
              "      <th>1058</th>\n",
              "      <td>1058</td>\n",
              "      <td>1.0</td>\n",
              "      <td>Respect other people's feelings. It might mean...</td>\n",
              "      <td>respect other people feeling it might mean not...</td>\n",
              "    </tr>\n",
              "    <tr>\n",
              "      <th>1059</th>\n",
              "      <td>1059</td>\n",
              "      <td>1.0</td>\n",
              "      <td>Take responsibility of your own happiness, nev...</td>\n",
              "      <td>take responsibility of your own happiness neve...</td>\n",
              "    </tr>\n",
              "    <tr>\n",
              "      <th>1060</th>\n",
              "      <td>1060</td>\n",
              "      <td>1.0</td>\n",
              "      <td>All I ever wanted was to reach out and touch a...</td>\n",
              "      <td>all ever wanted wa to reach out and touch anot...</td>\n",
              "    </tr>\n",
              "  </tbody>\n",
              "</table>\n",
              "<p>1061 rows × 4 columns</p>\n",
              "</div>"
            ],
            "text/plain": [
              "        id  sentiments                                              quote  \\\n",
              "0        0         0.0  I'm selfish, impatient and a little insecure. ...   \n",
              "1        1         1.0       Be yourself; everyone else is already taken.   \n",
              "2        2         0.0  Two things are infinite: the universe and huma...   \n",
              "3        3         0.0                     So many books, so little time.   \n",
              "4        4         0.0  Be who you are and say what you feel, because ...   \n",
              "...    ...         ...                                                ...   \n",
              "1056  1056         1.0  Remember that wherever your heart is, there yo...   \n",
              "1057  1057         1.0  History will be kind to me for I intend to wri...   \n",
              "1058  1058         1.0  Respect other people's feelings. It might mean...   \n",
              "1059  1059         1.0  Take responsibility of your own happiness, nev...   \n",
              "1060  1060         1.0  All I ever wanted was to reach out and touch a...   \n",
              "\n",
              "                                       processed_quotes  \n",
              "0     i selfish impatient and little insecure make m...  \n",
              "1            be yourself everyone else is already taken  \n",
              "2     two thing are infinite the universe and human ...  \n",
              "3                           so many book so little time  \n",
              "4     be who you are and say what you feel because t...  \n",
              "...                                                 ...  \n",
              "1056  remember that wherever your heart is there you...  \n",
              "1057  history will be kind to me for intend to write it  \n",
              "1058  respect other people feeling it might mean not...  \n",
              "1059  take responsibility of your own happiness neve...  \n",
              "1060  all ever wanted wa to reach out and touch anot...  \n",
              "\n",
              "[1061 rows x 4 columns]"
            ]
          },
          "metadata": {
            "tags": []
          },
          "execution_count": 8
        }
      ]
    },
    {
      "cell_type": "code",
      "metadata": {
        "id": "HnZkctQlJBU7",
        "colab_type": "code",
        "colab": {}
      },
      "source": [
        "# df.iloc[:,3]  # take only the quotes\n",
        "# df.iloc[:,1]  # take only the sentiments\n",
        "\n",
        "from sklearn.model_selection import train_test_split\n",
        "x_train, x_test, y_train, y_test = train_test_split(df.iloc[:,3], df.iloc[:,1], test_size=0.20, random_state=42)\n",
        "text = pd.concat([x_train,x_test])"
      ],
      "execution_count": 0,
      "outputs": []
    },
    {
      "cell_type": "code",
      "metadata": {
        "id": "ruIxtds_JBU-",
        "colab_type": "code",
        "outputId": "b49f3e2e-5263-47c8-bfd6-8b18a8533ed8",
        "colab": {}
      },
      "source": [
        "text"
      ],
      "execution_count": 0,
      "outputs": [
        {
          "output_type": "execute_result",
          "data": {
            "text/plain": [
              "72     if you can explain it to six year old you don ...\n",
              "898    true love is rare and it the only thing that g...\n",
              "44     yesterday is history tomorrow is mystery today...\n",
              "309             i would die for you but won live for you\n",
              "784    it strange because sometimes read book and thi...\n",
              "                             ...                        \n",
              "581         think before you speak read before you think\n",
              "55     i am enough of an artist to draw freely upon m...\n",
              "120    it matter not what someone is born but what th...\n",
              "388    nobody ha ever measured not even poet how much...\n",
              "25     insanity is doing the same thing over and over...\n",
              "Name: processed_quotes, Length: 1061, dtype: object"
            ]
          },
          "metadata": {
            "tags": []
          },
          "execution_count": 10
        }
      ]
    },
    {
      "cell_type": "code",
      "metadata": {
        "id": "uj7mrFpgJBVA",
        "colab_type": "code",
        "colab": {}
      },
      "source": [
        "num_words = 10000\n",
        "tokenizer = Tokenizer(num_words=num_words)\n",
        "# print(tokenizer)\n",
        "tokenizer.fit_on_texts(text)\n",
        "x_train_tokens = tokenizer.texts_to_sequences(x_train)\n",
        "x_test_tokens = tokenizer.texts_to_sequences(x_test)"
      ],
      "execution_count": 0,
      "outputs": []
    },
    {
      "cell_type": "code",
      "metadata": {
        "id": "QEOxz-yyJBVD",
        "colab_type": "code",
        "outputId": "f503ecb0-a322-4559-e738-2ffa68edb314",
        "colab": {}
      },
      "source": [
        "num_tokens = [len(tokens) for tokens in x_train_tokens + x_test_tokens]\n",
        "num_tokens = np.array(num_tokens)\n",
        "print(\"Mean length is \" + str(np.mean(num_tokens)))"
      ],
      "execution_count": 0,
      "outputs": [
        {
          "output_type": "stream",
          "text": [
            "Mean length is 23.158341187558907\n"
          ],
          "name": "stdout"
        }
      ]
    },
    {
      "cell_type": "code",
      "metadata": {
        "id": "8d2xWVD0JBVF",
        "colab_type": "code",
        "outputId": "75216d8c-046a-4f47-815a-2079c528257f",
        "colab": {}
      },
      "source": [
        "#Chose to 2 S.D to cover ~95% of data\n",
        "max_tokens = np.mean(num_tokens) + 2*np.std(num_tokens)\n",
        "max_tokens = int(max_tokens)\n",
        "print(max_tokens)"
      ],
      "execution_count": 0,
      "outputs": [
        {
          "output_type": "stream",
          "text": [
            "77\n"
          ],
          "name": "stdout"
        }
      ]
    },
    {
      "cell_type": "code",
      "metadata": {
        "id": "_HMNXdhJJBVI",
        "colab_type": "code",
        "colab": {}
      },
      "source": [
        "x_train_pad = pad_sequences(x_train_tokens, maxlen=max_tokens,\n",
        "                            padding='pre', truncating='pre')\n",
        "x_test_pad = pad_sequences(x_test_tokens, maxlen=max_tokens,\n",
        "                           padding='pre', truncating='pre')"
      ],
      "execution_count": 0,
      "outputs": []
    },
    {
      "cell_type": "code",
      "metadata": {
        "id": "mtwCDPGeJBVK",
        "colab_type": "code",
        "colab": {}
      },
      "source": [
        "idx = tokenizer.word_index\n",
        "inverse_map = dict(zip(idx.values(), idx.keys()))"
      ],
      "execution_count": 0,
      "outputs": []
    },
    {
      "cell_type": "code",
      "metadata": {
        "id": "kofC0G2zJBVM",
        "colab_type": "code",
        "colab": {}
      },
      "source": [
        "def tokens_to_string(tokens):\n",
        "    words = [inverse_map[token] for token in tokens if token != 0]\n",
        "    text = \" \".join(words)\n",
        "    return text"
      ],
      "execution_count": 0,
      "outputs": []
    },
    {
      "cell_type": "code",
      "metadata": {
        "id": "lBokxvxSJBVP",
        "colab_type": "code",
        "outputId": "b2d40ee1-c049-4818-a7e1-03389013e5b5",
        "colab": {}
      },
      "source": [
        "model = Sequential()\n",
        "embedding_size = 100\n",
        "\n",
        "model.add(Embedding(input_dim=num_words,\n",
        "                    output_dim=embedding_size,\n",
        "                    input_length=max_tokens,\n",
        "                    name='layer_embedding'))\n",
        "model.add(GRU(units=16, return_sequences=True))\n",
        "model.add(GRU(units=8, return_sequences=True))\n",
        "model.add(GRU(units=4))\n",
        "model.add(Dense(1, activation='sigmoid'))\n",
        "\n",
        "model.compile(loss='binary_crossentropy',\n",
        "              optimizer=Adam(lr=1e-3),\n",
        "              metrics=['accuracy'])"
      ],
      "execution_count": 0,
      "outputs": [
        {
          "output_type": "stream",
          "text": [
            "WARNING:tensorflow:From /usr/local/lib/python3.6/dist-packages/tensorflow_core/python/keras/initializers.py:119: calling RandomUniform.__init__ (from tensorflow.python.ops.init_ops) with dtype is deprecated and will be removed in a future version.\n",
            "Instructions for updating:\n",
            "Call initializer instance with the dtype argument instead of passing it to the constructor\n",
            "WARNING:tensorflow:From /usr/local/lib/python3.6/dist-packages/tensorflow_core/python/ops/resource_variable_ops.py:1635: calling BaseResourceVariable.__init__ (from tensorflow.python.ops.resource_variable_ops) with constraint is deprecated and will be removed in a future version.\n",
            "Instructions for updating:\n",
            "If using Keras pass *_constraint arguments to layers.\n"
          ],
          "name": "stdout"
        }
      ]
    },
    {
      "cell_type": "code",
      "metadata": {
        "id": "8aG5FfTbJBVS",
        "colab_type": "code",
        "outputId": "3d0d0934-abd9-4176-caec-753cb1b44169",
        "colab": {}
      },
      "source": [
        "model.fit(x_train_pad, y_train,\n",
        "          validation_split=0.05, epochs=50, batch_size=32)"
      ],
      "execution_count": 0,
      "outputs": [
        {
          "output_type": "stream",
          "text": [
            "Train on 805 samples, validate on 43 samples\n",
            "Epoch 1/50\n",
            "805/805 [==============================] - 9s 12ms/sample - loss: 0.6918 - acc: 0.5255 - val_loss: 0.6821 - val_acc: 0.6512\n",
            "Epoch 2/50\n",
            "805/805 [==============================] - 6s 8ms/sample - loss: 0.6705 - acc: 0.5615 - val_loss: 0.6592 - val_acc: 0.6512\n",
            "Epoch 3/50\n",
            "805/805 [==============================] - 7s 8ms/sample - loss: 0.5877 - acc: 0.6870 - val_loss: 0.7078 - val_acc: 0.4651\n",
            "Epoch 4/50\n",
            "805/805 [==============================] - 6s 8ms/sample - loss: 0.4019 - acc: 0.8758 - val_loss: 0.7408 - val_acc: 0.5349\n",
            "Epoch 5/50\n",
            "805/805 [==============================] - 6s 8ms/sample - loss: 0.2723 - acc: 0.9404 - val_loss: 0.8622 - val_acc: 0.4651\n",
            "Epoch 6/50\n",
            "805/805 [==============================] - 6s 8ms/sample - loss: 0.2131 - acc: 0.9578 - val_loss: 0.8657 - val_acc: 0.5814\n",
            "Epoch 7/50\n",
            "805/805 [==============================] - 6s 8ms/sample - loss: 0.1750 - acc: 0.9702 - val_loss: 0.9167 - val_acc: 0.5581\n",
            "Epoch 8/50\n",
            "805/805 [==============================] - 6s 8ms/sample - loss: 0.1491 - acc: 0.9764 - val_loss: 0.8104 - val_acc: 0.5814\n",
            "Epoch 9/50\n",
            "805/805 [==============================] - 6s 8ms/sample - loss: 0.1270 - acc: 0.9826 - val_loss: 0.8420 - val_acc: 0.5581\n",
            "Epoch 10/50\n",
            "805/805 [==============================] - 6s 8ms/sample - loss: 0.1232 - acc: 0.9814 - val_loss: 0.9761 - val_acc: 0.5349\n",
            "Epoch 11/50\n",
            "805/805 [==============================] - 6s 8ms/sample - loss: 0.1046 - acc: 0.9888 - val_loss: 0.9588 - val_acc: 0.5814\n",
            "Epoch 12/50\n",
            "805/805 [==============================] - 6s 8ms/sample - loss: 0.0911 - acc: 0.9925 - val_loss: 0.9698 - val_acc: 0.5581\n",
            "Epoch 13/50\n",
            "805/805 [==============================] - 6s 8ms/sample - loss: 0.0846 - acc: 0.9925 - val_loss: 0.9990 - val_acc: 0.5814\n",
            "Epoch 14/50\n",
            "805/805 [==============================] - 6s 8ms/sample - loss: 0.0806 - acc: 0.9913 - val_loss: 0.9877 - val_acc: 0.5814\n",
            "Epoch 15/50\n",
            "805/805 [==============================] - 6s 8ms/sample - loss: 0.0777 - acc: 0.9913 - val_loss: 1.0065 - val_acc: 0.5814\n",
            "Epoch 16/50\n",
            "805/805 [==============================] - 6s 8ms/sample - loss: 0.0689 - acc: 0.9938 - val_loss: 0.9894 - val_acc: 0.6047\n",
            "Epoch 17/50\n",
            "805/805 [==============================] - 6s 8ms/sample - loss: 0.0656 - acc: 0.9938 - val_loss: 0.9968 - val_acc: 0.6047\n",
            "Epoch 18/50\n",
            "805/805 [==============================] - 6s 8ms/sample - loss: 0.0629 - acc: 0.9938 - val_loss: 1.0095 - val_acc: 0.6047\n",
            "Epoch 19/50\n",
            "805/805 [==============================] - 6s 8ms/sample - loss: 0.0606 - acc: 0.9938 - val_loss: 1.0099 - val_acc: 0.6279\n",
            "Epoch 20/50\n",
            "805/805 [==============================] - 6s 8ms/sample - loss: 0.0586 - acc: 0.9938 - val_loss: 1.0303 - val_acc: 0.6279\n",
            "Epoch 21/50\n",
            "805/805 [==============================] - 6s 8ms/sample - loss: 0.0568 - acc: 0.9938 - val_loss: 1.0372 - val_acc: 0.6279\n",
            "Epoch 22/50\n",
            "805/805 [==============================] - 6s 8ms/sample - loss: 0.0553 - acc: 0.9938 - val_loss: 1.0546 - val_acc: 0.6279\n",
            "Epoch 23/50\n",
            "805/805 [==============================] - 6s 8ms/sample - loss: 0.0538 - acc: 0.9938 - val_loss: 1.0618 - val_acc: 0.6279\n",
            "Epoch 24/50\n",
            "805/805 [==============================] - 6s 8ms/sample - loss: 0.0525 - acc: 0.9938 - val_loss: 1.0658 - val_acc: 0.6279\n",
            "Epoch 25/50\n",
            "805/805 [==============================] - 6s 8ms/sample - loss: 0.0513 - acc: 0.9938 - val_loss: 1.0559 - val_acc: 0.6279\n",
            "Epoch 26/50\n",
            "805/805 [==============================] - 6s 8ms/sample - loss: 0.0564 - acc: 0.9913 - val_loss: 0.8806 - val_acc: 0.6744\n",
            "Epoch 27/50\n",
            "805/805 [==============================] - 6s 8ms/sample - loss: 0.0519 - acc: 0.9925 - val_loss: 0.9761 - val_acc: 0.7209\n",
            "Epoch 28/50\n",
            "805/805 [==============================] - 6s 8ms/sample - loss: 0.0568 - acc: 0.9901 - val_loss: 1.2698 - val_acc: 0.6047\n",
            "Epoch 29/50\n",
            "805/805 [==============================] - 6s 8ms/sample - loss: 0.0711 - acc: 0.9851 - val_loss: 1.0059 - val_acc: 0.6977\n",
            "Epoch 30/50\n",
            "805/805 [==============================] - 6s 8ms/sample - loss: 0.0614 - acc: 0.9888 - val_loss: 0.8597 - val_acc: 0.7209\n",
            "Epoch 31/50\n",
            "805/805 [==============================] - 6s 8ms/sample - loss: 0.0504 - acc: 0.9925 - val_loss: 0.9603 - val_acc: 0.7209\n",
            "Epoch 32/50\n",
            "805/805 [==============================] - 6s 8ms/sample - loss: 0.0492 - acc: 0.9925 - val_loss: 0.9917 - val_acc: 0.6744\n",
            "Epoch 33/50\n",
            "805/805 [==============================] - 6s 8ms/sample - loss: 0.0457 - acc: 0.9938 - val_loss: 0.9811 - val_acc: 0.7442\n",
            "Epoch 34/50\n",
            "805/805 [==============================] - 6s 8ms/sample - loss: 0.0407 - acc: 0.9950 - val_loss: 0.9865 - val_acc: 0.7209\n",
            "Epoch 35/50\n",
            "805/805 [==============================] - 6s 8ms/sample - loss: 0.0399 - acc: 0.9950 - val_loss: 0.9969 - val_acc: 0.7209\n",
            "Epoch 36/50\n",
            "805/805 [==============================] - 6s 8ms/sample - loss: 0.0391 - acc: 0.9950 - val_loss: 1.0090 - val_acc: 0.7209\n",
            "Epoch 37/50\n",
            "805/805 [==============================] - 7s 8ms/sample - loss: 0.0392 - acc: 0.9938 - val_loss: 1.0415 - val_acc: 0.6977\n",
            "Epoch 38/50\n",
            "805/805 [==============================] - 6s 8ms/sample - loss: 0.0383 - acc: 0.9950 - val_loss: 1.0682 - val_acc: 0.6512\n",
            "Epoch 39/50\n",
            "805/805 [==============================] - 7s 8ms/sample - loss: 0.0426 - acc: 0.9925 - val_loss: 1.1540 - val_acc: 0.6047\n",
            "Epoch 40/50\n",
            "805/805 [==============================] - 7s 8ms/sample - loss: 0.0386 - acc: 0.9950 - val_loss: 1.1706 - val_acc: 0.6744\n",
            "Epoch 41/50\n",
            "805/805 [==============================] - 7s 8ms/sample - loss: 0.0385 - acc: 0.9950 - val_loss: 1.1697 - val_acc: 0.6279\n",
            "Epoch 42/50\n",
            "805/805 [==============================] - 7s 9ms/sample - loss: 0.0367 - acc: 0.9925 - val_loss: 1.3751 - val_acc: 0.6279\n",
            "Epoch 43/50\n",
            "805/805 [==============================] - 7s 8ms/sample - loss: 0.1406 - acc: 0.9627 - val_loss: 1.1605 - val_acc: 0.6977\n",
            "Epoch 44/50\n",
            "805/805 [==============================] - 6s 8ms/sample - loss: 0.0971 - acc: 0.9764 - val_loss: 1.2362 - val_acc: 0.6512\n",
            "Epoch 45/50\n",
            "805/805 [==============================] - 7s 8ms/sample - loss: 0.0609 - acc: 0.9888 - val_loss: 1.2328 - val_acc: 0.6512\n",
            "Epoch 46/50\n",
            "805/805 [==============================] - 6s 8ms/sample - loss: 0.0379 - acc: 0.9950 - val_loss: 1.2163 - val_acc: 0.6744\n",
            "Epoch 47/50\n",
            "805/805 [==============================] - 6s 8ms/sample - loss: 0.0320 - acc: 0.9963 - val_loss: 1.2185 - val_acc: 0.6744\n",
            "Epoch 48/50\n",
            "805/805 [==============================] - 7s 8ms/sample - loss: 0.0312 - acc: 0.9963 - val_loss: 1.2181 - val_acc: 0.6977\n",
            "Epoch 49/50\n",
            "805/805 [==============================] - 7s 8ms/sample - loss: 0.0307 - acc: 0.9963 - val_loss: 1.2257 - val_acc: 0.6977\n",
            "Epoch 50/50\n",
            "805/805 [==============================] - 7s 9ms/sample - loss: 0.0304 - acc: 0.9963 - val_loss: 1.2341 - val_acc: 0.6977\n"
          ],
          "name": "stdout"
        },
        {
          "output_type": "execute_result",
          "data": {
            "text/plain": [
              "<tensorflow.python.keras.callbacks.History at 0x7ff287b9d668>"
            ]
          },
          "metadata": {
            "tags": []
          },
          "execution_count": 39
        }
      ]
    },
    {
      "cell_type": "code",
      "metadata": {
        "id": "oV-QpxpVJBVU",
        "colab_type": "code",
        "outputId": "d893619e-40dd-4ccf-c464-4ea2c1b225ad",
        "colab": {}
      },
      "source": [
        "results_gru = model.evaluate(x_test_pad, y_test)\n",
        "print(\"Accuracy: \"+ str(results_gru[1]))"
      ],
      "execution_count": 0,
      "outputs": [
        {
          "output_type": "stream",
          "text": [
            "213/213 [==============================] - 0s 2ms/sample - loss: 1.5306 - acc: 0.6150\n",
            "Accuracy: 0.6150235\n"
          ],
          "name": "stdout"
        }
      ]
    },
    {
      "cell_type": "code",
      "metadata": {
        "id": "6r5GgZcNN3hm",
        "colab_type": "code",
        "colab": {}
      },
      "source": [
        "predictions_gru = model.predict_classes(x_test_pad)"
      ],
      "execution_count": 0,
      "outputs": []
    },
    {
      "cell_type": "markdown",
      "metadata": {
        "id": "4vDpSILsJGwj",
        "colab_type": "text"
      },
      "source": [
        "# Symbolic AI"
      ]
    },
    {
      "cell_type": "code",
      "metadata": {
        "id": "q5HpZYjTJBVY",
        "colab_type": "code",
        "colab": {}
      },
      "source": [
        "nltk.download('vader_lexicon')\n",
        "from nltk.sentiment.vader import SentimentIntensityAnalyzer\n",
        "from sklearn.metrics import accuracy_score\n",
        " \n",
        " \n",
        "vader = SentimentIntensityAnalyzer()\n",
        "def vader_polarity(text):\n",
        "    \"\"\" Transform the output to a binary 0/1 result \"\"\"\n",
        "    score = vader.polarity_scores(text)\n",
        "    return 1 if score['pos'] > score['neg'] else 0\n",
        "\n",
        "predictions_vader = [vader_polarity(text) for text in x_test['processed_quotes']]"
      ],
      "execution_count": 0,
      "outputs": []
    },
    {
      "cell_type": "markdown",
      "metadata": {
        "id": "Y820IW63KqDo",
        "colab_type": "text"
      },
      "source": [
        "# Bert"
      ]
    },
    {
      "cell_type": "code",
      "metadata": {
        "id": "acBGuuTgKsnN",
        "colab_type": "code",
        "colab": {}
      },
      "source": [
        "!pip3 install ktrain\n",
        "\n",
        "import ktrain\n",
        "from ktrain import text"
      ],
      "execution_count": 0,
      "outputs": []
    },
    {
      "cell_type": "code",
      "metadata": {
        "id": "cJGf1389QDya",
        "colab_type": "code",
        "colab": {}
      },
      "source": [
        "train_bert = pd.DataFrame(x_train, y_train, columns=['preprocessed_quotes', 'sentiments']) "
      ],
      "execution_count": 0,
      "outputs": []
    },
    {
      "cell_type": "code",
      "metadata": {
        "id": "JEakAd_JOfI2",
        "colab_type": "code",
        "colab": {}
      },
      "source": [
        "(x_train, y_train), preproc = text.texts_from_df(train_bert, \n",
        "                   text_column='preprocessed_quotes', \\\n",
        "                   label_columns = ['sentiments'], \\\n",
        "                   random_state=0, \\\n",
        "                    maxlen=500, \\\n",
        "                    preprocess_mode='bert',\n",
        "                    classes=['0', '1']) \\"
      ],
      "execution_count": 0,
      "outputs": []
    },
    {
      "cell_type": "code",
      "metadata": {
        "id": "dd3gJo6wQMHF",
        "colab_type": "code",
        "colab": {}
      },
      "source": [
        "test_bert = pd.DataFrame(x_test, y_test, columns=['preprocessed_quotes', 'sentiments'])"
      ],
      "execution_count": 0,
      "outputs": []
    },
    {
      "cell_type": "code",
      "metadata": {
        "id": "wdh9n3SNQYv6",
        "colab_type": "code",
        "colab": {}
      },
      "source": [
        "(x_test, y_test), preproc = text.texts_from_df(test_bert, \n",
        "                   text_column='preprocessed_quotes', \\\n",
        "                   label_columns = ['sentiments'], \\\n",
        "                   random_state=0, \\\n",
        "                    maxlen=500, \\\n",
        "                    preprocess_mode='bert', \\\n",
        "                    classes=['0', '1']) \\"
      ],
      "execution_count": 0,
      "outputs": []
    },
    {
      "cell_type": "code",
      "metadata": {
        "id": "-AAyImmLM3Q_",
        "colab_type": "code",
        "colab": {}
      },
      "source": [
        "model_bert = text.text_classifier('bert', (x_train, y_train), preproc=preproc)\n",
        "learner = ktrain.get_learner(model_bert,train_data=(x_train, y_train), val_data=(x_test, y_test), batch_size=6)"
      ],
      "execution_count": 0,
      "outputs": []
    },
    {
      "cell_type": "code",
      "metadata": {
        "id": "9ixy1DYVM5xm",
        "colab_type": "code",
        "colab": {}
      },
      "source": [
        "learner.fit_onecycle(2e-5, 1)"
      ],
      "execution_count": 0,
      "outputs": []
    },
    {
      "cell_type": "code",
      "metadata": {
        "id": "M2kZBIfzOTZv",
        "colab_type": "code",
        "colab": {}
      },
      "source": [
        "predictions_bert = model_bert.predict_classes(x_test)"
      ],
      "execution_count": 0,
      "outputs": []
    },
    {
      "cell_type": "markdown",
      "metadata": {
        "id": "NZvJcQJcJt53",
        "colab_type": "text"
      },
      "source": [
        "# Ensemble RFC"
      ]
    },
    {
      "cell_type": "code",
      "metadata": {
        "id": "jwJm7brrJBVe",
        "colab_type": "code",
        "colab": {}
      },
      "source": [
        "df_ensemble = pd.DataFrame([predictions_gru, predictions_vader], columns=['predictions_gru','predictions_vader'])"
      ],
      "execution_count": 0,
      "outputs": []
    },
    {
      "cell_type": "code",
      "metadata": {
        "id": "ffd19QlPKHWT",
        "colab_type": "code",
        "colab": {}
      },
      "source": [
        "from sklearn.ensemble import RandomForestClassifier\n",
        "clf = RandomForestClassifier(n_estimators=10, random_state=0)\n",
        "clf = clf.fit(df_ensemble, y_test)"
      ],
      "execution_count": 0,
      "outputs": []
    }
  ]
}